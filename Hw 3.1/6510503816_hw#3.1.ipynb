{
  "nbformat": 4,
  "nbformat_minor": 0,
  "metadata": {
    "colab": {
      "provenance": []
    },
    "kernelspec": {
      "name": "python3",
      "display_name": "Python 3"
    },
    "language_info": {
      "name": "python"
    }
  },
  "cells": [
    {
      "cell_type": "markdown",
      "source": [
        "# Q1: สรุปข้อมูล (Data Summary)"
      ],
      "metadata": {
        "id": "3RwMXQdxSGb4"
      }
    },
    {
      "cell_type": "code",
      "execution_count": 1,
      "metadata": {
        "id": "2jQfgV-YZGUO"
      },
      "outputs": [],
      "source": [
        "import pandas as pd\n",
        "import numpy as np\n",
        "import matplotlib.pyplot as plt\n",
        "import seaborn as sns\n",
        "from pandas.plotting import scatter_matrix\n",
        "%matplotlib inline"
      ]
    },
    {
      "cell_type": "code",
      "source": [
        "df = pd.read_csv(\"titanic_data.csv\")\n",
        "df.head()"
      ],
      "metadata": {
        "colab": {
          "base_uri": "https://localhost:8080/",
          "height": 206
        },
        "id": "uYHHHWKJReMh",
        "outputId": "a628b26a-87d4-45eb-d194-69a78d5cacbe"
      },
      "execution_count": 2,
      "outputs": [
        {
          "output_type": "execute_result",
          "data": {
            "text/plain": [
              "   PassengerId  Survived  Pclass  \\\n",
              "0            1         0       3   \n",
              "1            2         1       1   \n",
              "2            3         1       3   \n",
              "3            4         1       1   \n",
              "4            5         0       3   \n",
              "\n",
              "                                                Name     Sex   Age  SibSp  \\\n",
              "0                            Braund, Mr. Owen Harris    male  22.0      1   \n",
              "1  Cumings, Mrs. John Bradley (Florence Briggs Th...  female  38.0      1   \n",
              "2                             Heikkinen, Miss. Laina  female  26.0      0   \n",
              "3       Futrelle, Mrs. Jacques Heath (Lily May Peel)  female  35.0      1   \n",
              "4                           Allen, Mr. William Henry    male  35.0      0   \n",
              "\n",
              "   Parch            Ticket     Fare Cabin Embarked  \n",
              "0      0         A/5 21171   7.2500   NaN        S  \n",
              "1      0          PC 17599  71.2833   C85        C  \n",
              "2      0  STON/O2. 3101282   7.9250   NaN        S  \n",
              "3      0            113803  53.1000  C123        S  \n",
              "4      0            373450   8.0500   NaN        S  "
            ],
            "text/html": [
              "\n",
              "  <div id=\"df-c266751f-d9e8-4bdc-b9d2-4f874604d9cf\" class=\"colab-df-container\">\n",
              "    <div>\n",
              "<style scoped>\n",
              "    .dataframe tbody tr th:only-of-type {\n",
              "        vertical-align: middle;\n",
              "    }\n",
              "\n",
              "    .dataframe tbody tr th {\n",
              "        vertical-align: top;\n",
              "    }\n",
              "\n",
              "    .dataframe thead th {\n",
              "        text-align: right;\n",
              "    }\n",
              "</style>\n",
              "<table border=\"1\" class=\"dataframe\">\n",
              "  <thead>\n",
              "    <tr style=\"text-align: right;\">\n",
              "      <th></th>\n",
              "      <th>PassengerId</th>\n",
              "      <th>Survived</th>\n",
              "      <th>Pclass</th>\n",
              "      <th>Name</th>\n",
              "      <th>Sex</th>\n",
              "      <th>Age</th>\n",
              "      <th>SibSp</th>\n",
              "      <th>Parch</th>\n",
              "      <th>Ticket</th>\n",
              "      <th>Fare</th>\n",
              "      <th>Cabin</th>\n",
              "      <th>Embarked</th>\n",
              "    </tr>\n",
              "  </thead>\n",
              "  <tbody>\n",
              "    <tr>\n",
              "      <th>0</th>\n",
              "      <td>1</td>\n",
              "      <td>0</td>\n",
              "      <td>3</td>\n",
              "      <td>Braund, Mr. Owen Harris</td>\n",
              "      <td>male</td>\n",
              "      <td>22.0</td>\n",
              "      <td>1</td>\n",
              "      <td>0</td>\n",
              "      <td>A/5 21171</td>\n",
              "      <td>7.2500</td>\n",
              "      <td>NaN</td>\n",
              "      <td>S</td>\n",
              "    </tr>\n",
              "    <tr>\n",
              "      <th>1</th>\n",
              "      <td>2</td>\n",
              "      <td>1</td>\n",
              "      <td>1</td>\n",
              "      <td>Cumings, Mrs. John Bradley (Florence Briggs Th...</td>\n",
              "      <td>female</td>\n",
              "      <td>38.0</td>\n",
              "      <td>1</td>\n",
              "      <td>0</td>\n",
              "      <td>PC 17599</td>\n",
              "      <td>71.2833</td>\n",
              "      <td>C85</td>\n",
              "      <td>C</td>\n",
              "    </tr>\n",
              "    <tr>\n",
              "      <th>2</th>\n",
              "      <td>3</td>\n",
              "      <td>1</td>\n",
              "      <td>3</td>\n",
              "      <td>Heikkinen, Miss. Laina</td>\n",
              "      <td>female</td>\n",
              "      <td>26.0</td>\n",
              "      <td>0</td>\n",
              "      <td>0</td>\n",
              "      <td>STON/O2. 3101282</td>\n",
              "      <td>7.9250</td>\n",
              "      <td>NaN</td>\n",
              "      <td>S</td>\n",
              "    </tr>\n",
              "    <tr>\n",
              "      <th>3</th>\n",
              "      <td>4</td>\n",
              "      <td>1</td>\n",
              "      <td>1</td>\n",
              "      <td>Futrelle, Mrs. Jacques Heath (Lily May Peel)</td>\n",
              "      <td>female</td>\n",
              "      <td>35.0</td>\n",
              "      <td>1</td>\n",
              "      <td>0</td>\n",
              "      <td>113803</td>\n",
              "      <td>53.1000</td>\n",
              "      <td>C123</td>\n",
              "      <td>S</td>\n",
              "    </tr>\n",
              "    <tr>\n",
              "      <th>4</th>\n",
              "      <td>5</td>\n",
              "      <td>0</td>\n",
              "      <td>3</td>\n",
              "      <td>Allen, Mr. William Henry</td>\n",
              "      <td>male</td>\n",
              "      <td>35.0</td>\n",
              "      <td>0</td>\n",
              "      <td>0</td>\n",
              "      <td>373450</td>\n",
              "      <td>8.0500</td>\n",
              "      <td>NaN</td>\n",
              "      <td>S</td>\n",
              "    </tr>\n",
              "  </tbody>\n",
              "</table>\n",
              "</div>\n",
              "    <div class=\"colab-df-buttons\">\n",
              "\n",
              "  <div class=\"colab-df-container\">\n",
              "    <button class=\"colab-df-convert\" onclick=\"convertToInteractive('df-c266751f-d9e8-4bdc-b9d2-4f874604d9cf')\"\n",
              "            title=\"Convert this dataframe to an interactive table.\"\n",
              "            style=\"display:none;\">\n",
              "\n",
              "  <svg xmlns=\"http://www.w3.org/2000/svg\" height=\"24px\" viewBox=\"0 -960 960 960\">\n",
              "    <path d=\"M120-120v-720h720v720H120Zm60-500h600v-160H180v160Zm220 220h160v-160H400v160Zm0 220h160v-160H400v160ZM180-400h160v-160H180v160Zm440 0h160v-160H620v160ZM180-180h160v-160H180v160Zm440 0h160v-160H620v160Z\"/>\n",
              "  </svg>\n",
              "    </button>\n",
              "\n",
              "  <style>\n",
              "    .colab-df-container {\n",
              "      display:flex;\n",
              "      gap: 12px;\n",
              "    }\n",
              "\n",
              "    .colab-df-convert {\n",
              "      background-color: #E8F0FE;\n",
              "      border: none;\n",
              "      border-radius: 50%;\n",
              "      cursor: pointer;\n",
              "      display: none;\n",
              "      fill: #1967D2;\n",
              "      height: 32px;\n",
              "      padding: 0 0 0 0;\n",
              "      width: 32px;\n",
              "    }\n",
              "\n",
              "    .colab-df-convert:hover {\n",
              "      background-color: #E2EBFA;\n",
              "      box-shadow: 0px 1px 2px rgba(60, 64, 67, 0.3), 0px 1px 3px 1px rgba(60, 64, 67, 0.15);\n",
              "      fill: #174EA6;\n",
              "    }\n",
              "\n",
              "    .colab-df-buttons div {\n",
              "      margin-bottom: 4px;\n",
              "    }\n",
              "\n",
              "    [theme=dark] .colab-df-convert {\n",
              "      background-color: #3B4455;\n",
              "      fill: #D2E3FC;\n",
              "    }\n",
              "\n",
              "    [theme=dark] .colab-df-convert:hover {\n",
              "      background-color: #434B5C;\n",
              "      box-shadow: 0px 1px 3px 1px rgba(0, 0, 0, 0.15);\n",
              "      filter: drop-shadow(0px 1px 2px rgba(0, 0, 0, 0.3));\n",
              "      fill: #FFFFFF;\n",
              "    }\n",
              "  </style>\n",
              "\n",
              "    <script>\n",
              "      const buttonEl =\n",
              "        document.querySelector('#df-c266751f-d9e8-4bdc-b9d2-4f874604d9cf button.colab-df-convert');\n",
              "      buttonEl.style.display =\n",
              "        google.colab.kernel.accessAllowed ? 'block' : 'none';\n",
              "\n",
              "      async function convertToInteractive(key) {\n",
              "        const element = document.querySelector('#df-c266751f-d9e8-4bdc-b9d2-4f874604d9cf');\n",
              "        const dataTable =\n",
              "          await google.colab.kernel.invokeFunction('convertToInteractive',\n",
              "                                                    [key], {});\n",
              "        if (!dataTable) return;\n",
              "\n",
              "        const docLinkHtml = 'Like what you see? Visit the ' +\n",
              "          '<a target=\"_blank\" href=https://colab.research.google.com/notebooks/data_table.ipynb>data table notebook</a>'\n",
              "          + ' to learn more about interactive tables.';\n",
              "        element.innerHTML = '';\n",
              "        dataTable['output_type'] = 'display_data';\n",
              "        await google.colab.output.renderOutput(dataTable, element);\n",
              "        const docLink = document.createElement('div');\n",
              "        docLink.innerHTML = docLinkHtml;\n",
              "        element.appendChild(docLink);\n",
              "      }\n",
              "    </script>\n",
              "  </div>\n",
              "\n",
              "\n",
              "<div id=\"df-c0354a1a-f50e-4e11-ad73-fde51f380d42\">\n",
              "  <button class=\"colab-df-quickchart\" onclick=\"quickchart('df-c0354a1a-f50e-4e11-ad73-fde51f380d42')\"\n",
              "            title=\"Suggest charts\"\n",
              "            style=\"display:none;\">\n",
              "\n",
              "<svg xmlns=\"http://www.w3.org/2000/svg\" height=\"24px\"viewBox=\"0 0 24 24\"\n",
              "     width=\"24px\">\n",
              "    <g>\n",
              "        <path d=\"M19 3H5c-1.1 0-2 .9-2 2v14c0 1.1.9 2 2 2h14c1.1 0 2-.9 2-2V5c0-1.1-.9-2-2-2zM9 17H7v-7h2v7zm4 0h-2V7h2v10zm4 0h-2v-4h2v4z\"/>\n",
              "    </g>\n",
              "</svg>\n",
              "  </button>\n",
              "\n",
              "<style>\n",
              "  .colab-df-quickchart {\n",
              "      --bg-color: #E8F0FE;\n",
              "      --fill-color: #1967D2;\n",
              "      --hover-bg-color: #E2EBFA;\n",
              "      --hover-fill-color: #174EA6;\n",
              "      --disabled-fill-color: #AAA;\n",
              "      --disabled-bg-color: #DDD;\n",
              "  }\n",
              "\n",
              "  [theme=dark] .colab-df-quickchart {\n",
              "      --bg-color: #3B4455;\n",
              "      --fill-color: #D2E3FC;\n",
              "      --hover-bg-color: #434B5C;\n",
              "      --hover-fill-color: #FFFFFF;\n",
              "      --disabled-bg-color: #3B4455;\n",
              "      --disabled-fill-color: #666;\n",
              "  }\n",
              "\n",
              "  .colab-df-quickchart {\n",
              "    background-color: var(--bg-color);\n",
              "    border: none;\n",
              "    border-radius: 50%;\n",
              "    cursor: pointer;\n",
              "    display: none;\n",
              "    fill: var(--fill-color);\n",
              "    height: 32px;\n",
              "    padding: 0;\n",
              "    width: 32px;\n",
              "  }\n",
              "\n",
              "  .colab-df-quickchart:hover {\n",
              "    background-color: var(--hover-bg-color);\n",
              "    box-shadow: 0 1px 2px rgba(60, 64, 67, 0.3), 0 1px 3px 1px rgba(60, 64, 67, 0.15);\n",
              "    fill: var(--button-hover-fill-color);\n",
              "  }\n",
              "\n",
              "  .colab-df-quickchart-complete:disabled,\n",
              "  .colab-df-quickchart-complete:disabled:hover {\n",
              "    background-color: var(--disabled-bg-color);\n",
              "    fill: var(--disabled-fill-color);\n",
              "    box-shadow: none;\n",
              "  }\n",
              "\n",
              "  .colab-df-spinner {\n",
              "    border: 2px solid var(--fill-color);\n",
              "    border-color: transparent;\n",
              "    border-bottom-color: var(--fill-color);\n",
              "    animation:\n",
              "      spin 1s steps(1) infinite;\n",
              "  }\n",
              "\n",
              "  @keyframes spin {\n",
              "    0% {\n",
              "      border-color: transparent;\n",
              "      border-bottom-color: var(--fill-color);\n",
              "      border-left-color: var(--fill-color);\n",
              "    }\n",
              "    20% {\n",
              "      border-color: transparent;\n",
              "      border-left-color: var(--fill-color);\n",
              "      border-top-color: var(--fill-color);\n",
              "    }\n",
              "    30% {\n",
              "      border-color: transparent;\n",
              "      border-left-color: var(--fill-color);\n",
              "      border-top-color: var(--fill-color);\n",
              "      border-right-color: var(--fill-color);\n",
              "    }\n",
              "    40% {\n",
              "      border-color: transparent;\n",
              "      border-right-color: var(--fill-color);\n",
              "      border-top-color: var(--fill-color);\n",
              "    }\n",
              "    60% {\n",
              "      border-color: transparent;\n",
              "      border-right-color: var(--fill-color);\n",
              "    }\n",
              "    80% {\n",
              "      border-color: transparent;\n",
              "      border-right-color: var(--fill-color);\n",
              "      border-bottom-color: var(--fill-color);\n",
              "    }\n",
              "    90% {\n",
              "      border-color: transparent;\n",
              "      border-bottom-color: var(--fill-color);\n",
              "    }\n",
              "  }\n",
              "</style>\n",
              "\n",
              "  <script>\n",
              "    async function quickchart(key) {\n",
              "      const quickchartButtonEl =\n",
              "        document.querySelector('#' + key + ' button');\n",
              "      quickchartButtonEl.disabled = true;  // To prevent multiple clicks.\n",
              "      quickchartButtonEl.classList.add('colab-df-spinner');\n",
              "      try {\n",
              "        const charts = await google.colab.kernel.invokeFunction(\n",
              "            'suggestCharts', [key], {});\n",
              "      } catch (error) {\n",
              "        console.error('Error during call to suggestCharts:', error);\n",
              "      }\n",
              "      quickchartButtonEl.classList.remove('colab-df-spinner');\n",
              "      quickchartButtonEl.classList.add('colab-df-quickchart-complete');\n",
              "    }\n",
              "    (() => {\n",
              "      let quickchartButtonEl =\n",
              "        document.querySelector('#df-c0354a1a-f50e-4e11-ad73-fde51f380d42 button');\n",
              "      quickchartButtonEl.style.display =\n",
              "        google.colab.kernel.accessAllowed ? 'block' : 'none';\n",
              "    })();\n",
              "  </script>\n",
              "</div>\n",
              "\n",
              "    </div>\n",
              "  </div>\n"
            ],
            "application/vnd.google.colaboratory.intrinsic+json": {
              "type": "dataframe",
              "variable_name": "df",
              "summary": "{\n  \"name\": \"df\",\n  \"rows\": 891,\n  \"fields\": [\n    {\n      \"column\": \"PassengerId\",\n      \"properties\": {\n        \"dtype\": \"number\",\n        \"std\": 257,\n        \"min\": 1,\n        \"max\": 891,\n        \"num_unique_values\": 891,\n        \"samples\": [\n          710,\n          440,\n          841\n        ],\n        \"semantic_type\": \"\",\n        \"description\": \"\"\n      }\n    },\n    {\n      \"column\": \"Survived\",\n      \"properties\": {\n        \"dtype\": \"number\",\n        \"std\": 0,\n        \"min\": 0,\n        \"max\": 1,\n        \"num_unique_values\": 2,\n        \"samples\": [\n          1,\n          0\n        ],\n        \"semantic_type\": \"\",\n        \"description\": \"\"\n      }\n    },\n    {\n      \"column\": \"Pclass\",\n      \"properties\": {\n        \"dtype\": \"number\",\n        \"std\": 0,\n        \"min\": 1,\n        \"max\": 3,\n        \"num_unique_values\": 3,\n        \"samples\": [\n          3,\n          1\n        ],\n        \"semantic_type\": \"\",\n        \"description\": \"\"\n      }\n    },\n    {\n      \"column\": \"Name\",\n      \"properties\": {\n        \"dtype\": \"string\",\n        \"num_unique_values\": 891,\n        \"samples\": [\n          \"Moubarek, Master. Halim Gonios (\\\"William George\\\")\",\n          \"Kvillner, Mr. Johan Henrik Johannesson\"\n        ],\n        \"semantic_type\": \"\",\n        \"description\": \"\"\n      }\n    },\n    {\n      \"column\": \"Sex\",\n      \"properties\": {\n        \"dtype\": \"category\",\n        \"num_unique_values\": 2,\n        \"samples\": [\n          \"female\",\n          \"male\"\n        ],\n        \"semantic_type\": \"\",\n        \"description\": \"\"\n      }\n    },\n    {\n      \"column\": \"Age\",\n      \"properties\": {\n        \"dtype\": \"number\",\n        \"std\": 14.526497332334042,\n        \"min\": 0.42,\n        \"max\": 80.0,\n        \"num_unique_values\": 88,\n        \"samples\": [\n          0.75,\n          22.0\n        ],\n        \"semantic_type\": \"\",\n        \"description\": \"\"\n      }\n    },\n    {\n      \"column\": \"SibSp\",\n      \"properties\": {\n        \"dtype\": \"number\",\n        \"std\": 1,\n        \"min\": 0,\n        \"max\": 8,\n        \"num_unique_values\": 7,\n        \"samples\": [\n          1,\n          0\n        ],\n        \"semantic_type\": \"\",\n        \"description\": \"\"\n      }\n    },\n    {\n      \"column\": \"Parch\",\n      \"properties\": {\n        \"dtype\": \"number\",\n        \"std\": 0,\n        \"min\": 0,\n        \"max\": 6,\n        \"num_unique_values\": 7,\n        \"samples\": [\n          0,\n          1\n        ],\n        \"semantic_type\": \"\",\n        \"description\": \"\"\n      }\n    },\n    {\n      \"column\": \"Ticket\",\n      \"properties\": {\n        \"dtype\": \"string\",\n        \"num_unique_values\": 681,\n        \"samples\": [\n          \"11774\",\n          \"248740\"\n        ],\n        \"semantic_type\": \"\",\n        \"description\": \"\"\n      }\n    },\n    {\n      \"column\": \"Fare\",\n      \"properties\": {\n        \"dtype\": \"number\",\n        \"std\": 49.6934285971809,\n        \"min\": 0.0,\n        \"max\": 512.3292,\n        \"num_unique_values\": 248,\n        \"samples\": [\n          11.2417,\n          51.8625\n        ],\n        \"semantic_type\": \"\",\n        \"description\": \"\"\n      }\n    },\n    {\n      \"column\": \"Cabin\",\n      \"properties\": {\n        \"dtype\": \"category\",\n        \"num_unique_values\": 147,\n        \"samples\": [\n          \"D45\",\n          \"B49\"\n        ],\n        \"semantic_type\": \"\",\n        \"description\": \"\"\n      }\n    },\n    {\n      \"column\": \"Embarked\",\n      \"properties\": {\n        \"dtype\": \"category\",\n        \"num_unique_values\": 3,\n        \"samples\": [\n          \"S\",\n          \"C\"\n        ],\n        \"semantic_type\": \"\",\n        \"description\": \"\"\n      }\n    }\n  ]\n}"
            }
          },
          "metadata": {},
          "execution_count": 2
        }
      ]
    },
    {
      "cell_type": "code",
      "source": [
        "sorted_df_ascending = df.sort_values(by='Age', ascending=True)\n",
        "sorted_df_ascending\n",
        "sorted_df_descending = df.sort_values(by='Age', ascending=False)\n",
        "sorted_df_descending"
      ],
      "metadata": {
        "colab": {
          "base_uri": "https://localhost:8080/",
          "height": 424
        },
        "id": "dxUX_f-21a_q",
        "outputId": "2c27ae7c-d75e-4a5a-bb9c-fc05a7f92727"
      },
      "execution_count": 3,
      "outputs": [
        {
          "output_type": "execute_result",
          "data": {
            "text/plain": [
              "     PassengerId  Survived  Pclass                                      Name  \\\n",
              "630          631         1       1      Barkworth, Mr. Algernon Henry Wilson   \n",
              "851          852         0       3                       Svensson, Mr. Johan   \n",
              "493          494         0       1                   Artagaveytia, Mr. Ramon   \n",
              "96            97         0       1                 Goldschmidt, Mr. George B   \n",
              "116          117         0       3                      Connors, Mr. Patrick   \n",
              "..           ...       ...     ...                                       ...   \n",
              "859          860         0       3                          Razi, Mr. Raihed   \n",
              "863          864         0       3         Sage, Miss. Dorothy Edith \"Dolly\"   \n",
              "868          869         0       3               van Melkebeke, Mr. Philemon   \n",
              "878          879         0       3                        Laleff, Mr. Kristo   \n",
              "888          889         0       3  Johnston, Miss. Catherine Helen \"Carrie\"   \n",
              "\n",
              "        Sex   Age  SibSp  Parch      Ticket     Fare Cabin Embarked  \n",
              "630    male  80.0      0      0       27042  30.0000   A23        S  \n",
              "851    male  74.0      0      0      347060   7.7750   NaN        S  \n",
              "493    male  71.0      0      0    PC 17609  49.5042   NaN        C  \n",
              "96     male  71.0      0      0    PC 17754  34.6542    A5        C  \n",
              "116    male  70.5      0      0      370369   7.7500   NaN        Q  \n",
              "..      ...   ...    ...    ...         ...      ...   ...      ...  \n",
              "859    male   NaN      0      0        2629   7.2292   NaN        C  \n",
              "863  female   NaN      8      2    CA. 2343  69.5500   NaN        S  \n",
              "868    male   NaN      0      0      345777   9.5000   NaN        S  \n",
              "878    male   NaN      0      0      349217   7.8958   NaN        S  \n",
              "888  female   NaN      1      2  W./C. 6607  23.4500   NaN        S  \n",
              "\n",
              "[891 rows x 12 columns]"
            ],
            "text/html": [
              "\n",
              "  <div id=\"df-02ac5dff-9e59-46d4-bc9c-4d3e6814dbe3\" class=\"colab-df-container\">\n",
              "    <div>\n",
              "<style scoped>\n",
              "    .dataframe tbody tr th:only-of-type {\n",
              "        vertical-align: middle;\n",
              "    }\n",
              "\n",
              "    .dataframe tbody tr th {\n",
              "        vertical-align: top;\n",
              "    }\n",
              "\n",
              "    .dataframe thead th {\n",
              "        text-align: right;\n",
              "    }\n",
              "</style>\n",
              "<table border=\"1\" class=\"dataframe\">\n",
              "  <thead>\n",
              "    <tr style=\"text-align: right;\">\n",
              "      <th></th>\n",
              "      <th>PassengerId</th>\n",
              "      <th>Survived</th>\n",
              "      <th>Pclass</th>\n",
              "      <th>Name</th>\n",
              "      <th>Sex</th>\n",
              "      <th>Age</th>\n",
              "      <th>SibSp</th>\n",
              "      <th>Parch</th>\n",
              "      <th>Ticket</th>\n",
              "      <th>Fare</th>\n",
              "      <th>Cabin</th>\n",
              "      <th>Embarked</th>\n",
              "    </tr>\n",
              "  </thead>\n",
              "  <tbody>\n",
              "    <tr>\n",
              "      <th>630</th>\n",
              "      <td>631</td>\n",
              "      <td>1</td>\n",
              "      <td>1</td>\n",
              "      <td>Barkworth, Mr. Algernon Henry Wilson</td>\n",
              "      <td>male</td>\n",
              "      <td>80.0</td>\n",
              "      <td>0</td>\n",
              "      <td>0</td>\n",
              "      <td>27042</td>\n",
              "      <td>30.0000</td>\n",
              "      <td>A23</td>\n",
              "      <td>S</td>\n",
              "    </tr>\n",
              "    <tr>\n",
              "      <th>851</th>\n",
              "      <td>852</td>\n",
              "      <td>0</td>\n",
              "      <td>3</td>\n",
              "      <td>Svensson, Mr. Johan</td>\n",
              "      <td>male</td>\n",
              "      <td>74.0</td>\n",
              "      <td>0</td>\n",
              "      <td>0</td>\n",
              "      <td>347060</td>\n",
              "      <td>7.7750</td>\n",
              "      <td>NaN</td>\n",
              "      <td>S</td>\n",
              "    </tr>\n",
              "    <tr>\n",
              "      <th>493</th>\n",
              "      <td>494</td>\n",
              "      <td>0</td>\n",
              "      <td>1</td>\n",
              "      <td>Artagaveytia, Mr. Ramon</td>\n",
              "      <td>male</td>\n",
              "      <td>71.0</td>\n",
              "      <td>0</td>\n",
              "      <td>0</td>\n",
              "      <td>PC 17609</td>\n",
              "      <td>49.5042</td>\n",
              "      <td>NaN</td>\n",
              "      <td>C</td>\n",
              "    </tr>\n",
              "    <tr>\n",
              "      <th>96</th>\n",
              "      <td>97</td>\n",
              "      <td>0</td>\n",
              "      <td>1</td>\n",
              "      <td>Goldschmidt, Mr. George B</td>\n",
              "      <td>male</td>\n",
              "      <td>71.0</td>\n",
              "      <td>0</td>\n",
              "      <td>0</td>\n",
              "      <td>PC 17754</td>\n",
              "      <td>34.6542</td>\n",
              "      <td>A5</td>\n",
              "      <td>C</td>\n",
              "    </tr>\n",
              "    <tr>\n",
              "      <th>116</th>\n",
              "      <td>117</td>\n",
              "      <td>0</td>\n",
              "      <td>3</td>\n",
              "      <td>Connors, Mr. Patrick</td>\n",
              "      <td>male</td>\n",
              "      <td>70.5</td>\n",
              "      <td>0</td>\n",
              "      <td>0</td>\n",
              "      <td>370369</td>\n",
              "      <td>7.7500</td>\n",
              "      <td>NaN</td>\n",
              "      <td>Q</td>\n",
              "    </tr>\n",
              "    <tr>\n",
              "      <th>...</th>\n",
              "      <td>...</td>\n",
              "      <td>...</td>\n",
              "      <td>...</td>\n",
              "      <td>...</td>\n",
              "      <td>...</td>\n",
              "      <td>...</td>\n",
              "      <td>...</td>\n",
              "      <td>...</td>\n",
              "      <td>...</td>\n",
              "      <td>...</td>\n",
              "      <td>...</td>\n",
              "      <td>...</td>\n",
              "    </tr>\n",
              "    <tr>\n",
              "      <th>859</th>\n",
              "      <td>860</td>\n",
              "      <td>0</td>\n",
              "      <td>3</td>\n",
              "      <td>Razi, Mr. Raihed</td>\n",
              "      <td>male</td>\n",
              "      <td>NaN</td>\n",
              "      <td>0</td>\n",
              "      <td>0</td>\n",
              "      <td>2629</td>\n",
              "      <td>7.2292</td>\n",
              "      <td>NaN</td>\n",
              "      <td>C</td>\n",
              "    </tr>\n",
              "    <tr>\n",
              "      <th>863</th>\n",
              "      <td>864</td>\n",
              "      <td>0</td>\n",
              "      <td>3</td>\n",
              "      <td>Sage, Miss. Dorothy Edith \"Dolly\"</td>\n",
              "      <td>female</td>\n",
              "      <td>NaN</td>\n",
              "      <td>8</td>\n",
              "      <td>2</td>\n",
              "      <td>CA. 2343</td>\n",
              "      <td>69.5500</td>\n",
              "      <td>NaN</td>\n",
              "      <td>S</td>\n",
              "    </tr>\n",
              "    <tr>\n",
              "      <th>868</th>\n",
              "      <td>869</td>\n",
              "      <td>0</td>\n",
              "      <td>3</td>\n",
              "      <td>van Melkebeke, Mr. Philemon</td>\n",
              "      <td>male</td>\n",
              "      <td>NaN</td>\n",
              "      <td>0</td>\n",
              "      <td>0</td>\n",
              "      <td>345777</td>\n",
              "      <td>9.5000</td>\n",
              "      <td>NaN</td>\n",
              "      <td>S</td>\n",
              "    </tr>\n",
              "    <tr>\n",
              "      <th>878</th>\n",
              "      <td>879</td>\n",
              "      <td>0</td>\n",
              "      <td>3</td>\n",
              "      <td>Laleff, Mr. Kristo</td>\n",
              "      <td>male</td>\n",
              "      <td>NaN</td>\n",
              "      <td>0</td>\n",
              "      <td>0</td>\n",
              "      <td>349217</td>\n",
              "      <td>7.8958</td>\n",
              "      <td>NaN</td>\n",
              "      <td>S</td>\n",
              "    </tr>\n",
              "    <tr>\n",
              "      <th>888</th>\n",
              "      <td>889</td>\n",
              "      <td>0</td>\n",
              "      <td>3</td>\n",
              "      <td>Johnston, Miss. Catherine Helen \"Carrie\"</td>\n",
              "      <td>female</td>\n",
              "      <td>NaN</td>\n",
              "      <td>1</td>\n",
              "      <td>2</td>\n",
              "      <td>W./C. 6607</td>\n",
              "      <td>23.4500</td>\n",
              "      <td>NaN</td>\n",
              "      <td>S</td>\n",
              "    </tr>\n",
              "  </tbody>\n",
              "</table>\n",
              "<p>891 rows × 12 columns</p>\n",
              "</div>\n",
              "    <div class=\"colab-df-buttons\">\n",
              "\n",
              "  <div class=\"colab-df-container\">\n",
              "    <button class=\"colab-df-convert\" onclick=\"convertToInteractive('df-02ac5dff-9e59-46d4-bc9c-4d3e6814dbe3')\"\n",
              "            title=\"Convert this dataframe to an interactive table.\"\n",
              "            style=\"display:none;\">\n",
              "\n",
              "  <svg xmlns=\"http://www.w3.org/2000/svg\" height=\"24px\" viewBox=\"0 -960 960 960\">\n",
              "    <path d=\"M120-120v-720h720v720H120Zm60-500h600v-160H180v160Zm220 220h160v-160H400v160Zm0 220h160v-160H400v160ZM180-400h160v-160H180v160Zm440 0h160v-160H620v160ZM180-180h160v-160H180v160Zm440 0h160v-160H620v160Z\"/>\n",
              "  </svg>\n",
              "    </button>\n",
              "\n",
              "  <style>\n",
              "    .colab-df-container {\n",
              "      display:flex;\n",
              "      gap: 12px;\n",
              "    }\n",
              "\n",
              "    .colab-df-convert {\n",
              "      background-color: #E8F0FE;\n",
              "      border: none;\n",
              "      border-radius: 50%;\n",
              "      cursor: pointer;\n",
              "      display: none;\n",
              "      fill: #1967D2;\n",
              "      height: 32px;\n",
              "      padding: 0 0 0 0;\n",
              "      width: 32px;\n",
              "    }\n",
              "\n",
              "    .colab-df-convert:hover {\n",
              "      background-color: #E2EBFA;\n",
              "      box-shadow: 0px 1px 2px rgba(60, 64, 67, 0.3), 0px 1px 3px 1px rgba(60, 64, 67, 0.15);\n",
              "      fill: #174EA6;\n",
              "    }\n",
              "\n",
              "    .colab-df-buttons div {\n",
              "      margin-bottom: 4px;\n",
              "    }\n",
              "\n",
              "    [theme=dark] .colab-df-convert {\n",
              "      background-color: #3B4455;\n",
              "      fill: #D2E3FC;\n",
              "    }\n",
              "\n",
              "    [theme=dark] .colab-df-convert:hover {\n",
              "      background-color: #434B5C;\n",
              "      box-shadow: 0px 1px 3px 1px rgba(0, 0, 0, 0.15);\n",
              "      filter: drop-shadow(0px 1px 2px rgba(0, 0, 0, 0.3));\n",
              "      fill: #FFFFFF;\n",
              "    }\n",
              "  </style>\n",
              "\n",
              "    <script>\n",
              "      const buttonEl =\n",
              "        document.querySelector('#df-02ac5dff-9e59-46d4-bc9c-4d3e6814dbe3 button.colab-df-convert');\n",
              "      buttonEl.style.display =\n",
              "        google.colab.kernel.accessAllowed ? 'block' : 'none';\n",
              "\n",
              "      async function convertToInteractive(key) {\n",
              "        const element = document.querySelector('#df-02ac5dff-9e59-46d4-bc9c-4d3e6814dbe3');\n",
              "        const dataTable =\n",
              "          await google.colab.kernel.invokeFunction('convertToInteractive',\n",
              "                                                    [key], {});\n",
              "        if (!dataTable) return;\n",
              "\n",
              "        const docLinkHtml = 'Like what you see? Visit the ' +\n",
              "          '<a target=\"_blank\" href=https://colab.research.google.com/notebooks/data_table.ipynb>data table notebook</a>'\n",
              "          + ' to learn more about interactive tables.';\n",
              "        element.innerHTML = '';\n",
              "        dataTable['output_type'] = 'display_data';\n",
              "        await google.colab.output.renderOutput(dataTable, element);\n",
              "        const docLink = document.createElement('div');\n",
              "        docLink.innerHTML = docLinkHtml;\n",
              "        element.appendChild(docLink);\n",
              "      }\n",
              "    </script>\n",
              "  </div>\n",
              "\n",
              "\n",
              "<div id=\"df-4a7a7c9c-7be6-468e-8ea1-5333bd7c9437\">\n",
              "  <button class=\"colab-df-quickchart\" onclick=\"quickchart('df-4a7a7c9c-7be6-468e-8ea1-5333bd7c9437')\"\n",
              "            title=\"Suggest charts\"\n",
              "            style=\"display:none;\">\n",
              "\n",
              "<svg xmlns=\"http://www.w3.org/2000/svg\" height=\"24px\"viewBox=\"0 0 24 24\"\n",
              "     width=\"24px\">\n",
              "    <g>\n",
              "        <path d=\"M19 3H5c-1.1 0-2 .9-2 2v14c0 1.1.9 2 2 2h14c1.1 0 2-.9 2-2V5c0-1.1-.9-2-2-2zM9 17H7v-7h2v7zm4 0h-2V7h2v10zm4 0h-2v-4h2v4z\"/>\n",
              "    </g>\n",
              "</svg>\n",
              "  </button>\n",
              "\n",
              "<style>\n",
              "  .colab-df-quickchart {\n",
              "      --bg-color: #E8F0FE;\n",
              "      --fill-color: #1967D2;\n",
              "      --hover-bg-color: #E2EBFA;\n",
              "      --hover-fill-color: #174EA6;\n",
              "      --disabled-fill-color: #AAA;\n",
              "      --disabled-bg-color: #DDD;\n",
              "  }\n",
              "\n",
              "  [theme=dark] .colab-df-quickchart {\n",
              "      --bg-color: #3B4455;\n",
              "      --fill-color: #D2E3FC;\n",
              "      --hover-bg-color: #434B5C;\n",
              "      --hover-fill-color: #FFFFFF;\n",
              "      --disabled-bg-color: #3B4455;\n",
              "      --disabled-fill-color: #666;\n",
              "  }\n",
              "\n",
              "  .colab-df-quickchart {\n",
              "    background-color: var(--bg-color);\n",
              "    border: none;\n",
              "    border-radius: 50%;\n",
              "    cursor: pointer;\n",
              "    display: none;\n",
              "    fill: var(--fill-color);\n",
              "    height: 32px;\n",
              "    padding: 0;\n",
              "    width: 32px;\n",
              "  }\n",
              "\n",
              "  .colab-df-quickchart:hover {\n",
              "    background-color: var(--hover-bg-color);\n",
              "    box-shadow: 0 1px 2px rgba(60, 64, 67, 0.3), 0 1px 3px 1px rgba(60, 64, 67, 0.15);\n",
              "    fill: var(--button-hover-fill-color);\n",
              "  }\n",
              "\n",
              "  .colab-df-quickchart-complete:disabled,\n",
              "  .colab-df-quickchart-complete:disabled:hover {\n",
              "    background-color: var(--disabled-bg-color);\n",
              "    fill: var(--disabled-fill-color);\n",
              "    box-shadow: none;\n",
              "  }\n",
              "\n",
              "  .colab-df-spinner {\n",
              "    border: 2px solid var(--fill-color);\n",
              "    border-color: transparent;\n",
              "    border-bottom-color: var(--fill-color);\n",
              "    animation:\n",
              "      spin 1s steps(1) infinite;\n",
              "  }\n",
              "\n",
              "  @keyframes spin {\n",
              "    0% {\n",
              "      border-color: transparent;\n",
              "      border-bottom-color: var(--fill-color);\n",
              "      border-left-color: var(--fill-color);\n",
              "    }\n",
              "    20% {\n",
              "      border-color: transparent;\n",
              "      border-left-color: var(--fill-color);\n",
              "      border-top-color: var(--fill-color);\n",
              "    }\n",
              "    30% {\n",
              "      border-color: transparent;\n",
              "      border-left-color: var(--fill-color);\n",
              "      border-top-color: var(--fill-color);\n",
              "      border-right-color: var(--fill-color);\n",
              "    }\n",
              "    40% {\n",
              "      border-color: transparent;\n",
              "      border-right-color: var(--fill-color);\n",
              "      border-top-color: var(--fill-color);\n",
              "    }\n",
              "    60% {\n",
              "      border-color: transparent;\n",
              "      border-right-color: var(--fill-color);\n",
              "    }\n",
              "    80% {\n",
              "      border-color: transparent;\n",
              "      border-right-color: var(--fill-color);\n",
              "      border-bottom-color: var(--fill-color);\n",
              "    }\n",
              "    90% {\n",
              "      border-color: transparent;\n",
              "      border-bottom-color: var(--fill-color);\n",
              "    }\n",
              "  }\n",
              "</style>\n",
              "\n",
              "  <script>\n",
              "    async function quickchart(key) {\n",
              "      const quickchartButtonEl =\n",
              "        document.querySelector('#' + key + ' button');\n",
              "      quickchartButtonEl.disabled = true;  // To prevent multiple clicks.\n",
              "      quickchartButtonEl.classList.add('colab-df-spinner');\n",
              "      try {\n",
              "        const charts = await google.colab.kernel.invokeFunction(\n",
              "            'suggestCharts', [key], {});\n",
              "      } catch (error) {\n",
              "        console.error('Error during call to suggestCharts:', error);\n",
              "      }\n",
              "      quickchartButtonEl.classList.remove('colab-df-spinner');\n",
              "      quickchartButtonEl.classList.add('colab-df-quickchart-complete');\n",
              "    }\n",
              "    (() => {\n",
              "      let quickchartButtonEl =\n",
              "        document.querySelector('#df-4a7a7c9c-7be6-468e-8ea1-5333bd7c9437 button');\n",
              "      quickchartButtonEl.style.display =\n",
              "        google.colab.kernel.accessAllowed ? 'block' : 'none';\n",
              "    })();\n",
              "  </script>\n",
              "</div>\n",
              "\n",
              "  <div id=\"id_3930bfb2-6bef-4e84-93ae-d1d51b87bf6d\">\n",
              "    <style>\n",
              "      .colab-df-generate {\n",
              "        background-color: #E8F0FE;\n",
              "        border: none;\n",
              "        border-radius: 50%;\n",
              "        cursor: pointer;\n",
              "        display: none;\n",
              "        fill: #1967D2;\n",
              "        height: 32px;\n",
              "        padding: 0 0 0 0;\n",
              "        width: 32px;\n",
              "      }\n",
              "\n",
              "      .colab-df-generate:hover {\n",
              "        background-color: #E2EBFA;\n",
              "        box-shadow: 0px 1px 2px rgba(60, 64, 67, 0.3), 0px 1px 3px 1px rgba(60, 64, 67, 0.15);\n",
              "        fill: #174EA6;\n",
              "      }\n",
              "\n",
              "      [theme=dark] .colab-df-generate {\n",
              "        background-color: #3B4455;\n",
              "        fill: #D2E3FC;\n",
              "      }\n",
              "\n",
              "      [theme=dark] .colab-df-generate:hover {\n",
              "        background-color: #434B5C;\n",
              "        box-shadow: 0px 1px 3px 1px rgba(0, 0, 0, 0.15);\n",
              "        filter: drop-shadow(0px 1px 2px rgba(0, 0, 0, 0.3));\n",
              "        fill: #FFFFFF;\n",
              "      }\n",
              "    </style>\n",
              "    <button class=\"colab-df-generate\" onclick=\"generateWithVariable('sorted_df_descending')\"\n",
              "            title=\"Generate code using this dataframe.\"\n",
              "            style=\"display:none;\">\n",
              "\n",
              "  <svg xmlns=\"http://www.w3.org/2000/svg\" height=\"24px\"viewBox=\"0 0 24 24\"\n",
              "       width=\"24px\">\n",
              "    <path d=\"M7,19H8.4L18.45,9,17,7.55,7,17.6ZM5,21V16.75L18.45,3.32a2,2,0,0,1,2.83,0l1.4,1.43a1.91,1.91,0,0,1,.58,1.4,1.91,1.91,0,0,1-.58,1.4L9.25,21ZM18.45,9,17,7.55Zm-12,3A5.31,5.31,0,0,0,4.9,8.1,5.31,5.31,0,0,0,1,6.5,5.31,5.31,0,0,0,4.9,4.9,5.31,5.31,0,0,0,6.5,1,5.31,5.31,0,0,0,8.1,4.9,5.31,5.31,0,0,0,12,6.5,5.46,5.46,0,0,0,6.5,12Z\"/>\n",
              "  </svg>\n",
              "    </button>\n",
              "    <script>\n",
              "      (() => {\n",
              "      const buttonEl =\n",
              "        document.querySelector('#id_3930bfb2-6bef-4e84-93ae-d1d51b87bf6d button.colab-df-generate');\n",
              "      buttonEl.style.display =\n",
              "        google.colab.kernel.accessAllowed ? 'block' : 'none';\n",
              "\n",
              "      buttonEl.onclick = () => {\n",
              "        google.colab.notebook.generateWithVariable('sorted_df_descending');\n",
              "      }\n",
              "      })();\n",
              "    </script>\n",
              "  </div>\n",
              "\n",
              "    </div>\n",
              "  </div>\n"
            ],
            "application/vnd.google.colaboratory.intrinsic+json": {
              "type": "dataframe",
              "variable_name": "sorted_df_descending",
              "summary": "{\n  \"name\": \"sorted_df_descending\",\n  \"rows\": 891,\n  \"fields\": [\n    {\n      \"column\": \"PassengerId\",\n      \"properties\": {\n        \"dtype\": \"number\",\n        \"std\": 257,\n        \"min\": 1,\n        \"max\": 891,\n        \"num_unique_values\": 891,\n        \"samples\": [\n          79,\n          90,\n          602\n        ],\n        \"semantic_type\": \"\",\n        \"description\": \"\"\n      }\n    },\n    {\n      \"column\": \"Survived\",\n      \"properties\": {\n        \"dtype\": \"number\",\n        \"std\": 0,\n        \"min\": 0,\n        \"max\": 1,\n        \"num_unique_values\": 2,\n        \"samples\": [\n          0,\n          1\n        ],\n        \"semantic_type\": \"\",\n        \"description\": \"\"\n      }\n    },\n    {\n      \"column\": \"Pclass\",\n      \"properties\": {\n        \"dtype\": \"number\",\n        \"std\": 0,\n        \"min\": 1,\n        \"max\": 3,\n        \"num_unique_values\": 3,\n        \"samples\": [\n          1,\n          3\n        ],\n        \"semantic_type\": \"\",\n        \"description\": \"\"\n      }\n    },\n    {\n      \"column\": \"Name\",\n      \"properties\": {\n        \"dtype\": \"string\",\n        \"num_unique_values\": 891,\n        \"samples\": [\n          \"Caldwell, Master. Alden Gates\",\n          \"Celotti, Mr. Francesco\"\n        ],\n        \"semantic_type\": \"\",\n        \"description\": \"\"\n      }\n    },\n    {\n      \"column\": \"Sex\",\n      \"properties\": {\n        \"dtype\": \"category\",\n        \"num_unique_values\": 2,\n        \"samples\": [\n          \"female\",\n          \"male\"\n        ],\n        \"semantic_type\": \"\",\n        \"description\": \"\"\n      }\n    },\n    {\n      \"column\": \"Age\",\n      \"properties\": {\n        \"dtype\": \"number\",\n        \"std\": 14.526497332334042,\n        \"min\": 0.42,\n        \"max\": 80.0,\n        \"num_unique_values\": 88,\n        \"samples\": [\n          7.0,\n          80.0\n        ],\n        \"semantic_type\": \"\",\n        \"description\": \"\"\n      }\n    },\n    {\n      \"column\": \"SibSp\",\n      \"properties\": {\n        \"dtype\": \"number\",\n        \"std\": 1,\n        \"min\": 0,\n        \"max\": 8,\n        \"num_unique_values\": 7,\n        \"samples\": [\n          0,\n          1\n        ],\n        \"semantic_type\": \"\",\n        \"description\": \"\"\n      }\n    },\n    {\n      \"column\": \"Parch\",\n      \"properties\": {\n        \"dtype\": \"number\",\n        \"std\": 0,\n        \"min\": 0,\n        \"max\": 6,\n        \"num_unique_values\": 7,\n        \"samples\": [\n          0,\n          1\n        ],\n        \"semantic_type\": \"\",\n        \"description\": \"\"\n      }\n    },\n    {\n      \"column\": \"Ticket\",\n      \"properties\": {\n        \"dtype\": \"string\",\n        \"num_unique_values\": 681,\n        \"samples\": [\n          \"334912\",\n          \"349909\"\n        ],\n        \"semantic_type\": \"\",\n        \"description\": \"\"\n      }\n    },\n    {\n      \"column\": \"Fare\",\n      \"properties\": {\n        \"dtype\": \"number\",\n        \"std\": 49.6934285971809,\n        \"min\": 0.0,\n        \"max\": 512.3292,\n        \"num_unique_values\": 248,\n        \"samples\": [\n          14.0,\n          71.0\n        ],\n        \"semantic_type\": \"\",\n        \"description\": \"\"\n      }\n    },\n    {\n      \"column\": \"Cabin\",\n      \"properties\": {\n        \"dtype\": \"category\",\n        \"num_unique_values\": 147,\n        \"samples\": [\n          \"B42\",\n          \"C124\"\n        ],\n        \"semantic_type\": \"\",\n        \"description\": \"\"\n      }\n    },\n    {\n      \"column\": \"Embarked\",\n      \"properties\": {\n        \"dtype\": \"category\",\n        \"num_unique_values\": 3,\n        \"samples\": [\n          \"S\",\n          \"C\"\n        ],\n        \"semantic_type\": \"\",\n        \"description\": \"\"\n      }\n    }\n  ]\n}"
            }
          },
          "metadata": {},
          "execution_count": 3
        }
      ]
    },
    {
      "cell_type": "markdown",
      "source": [
        "### ประเภทของข้อมูล\n"
      ],
      "metadata": {
        "id": "nQRgpiBCb4n7"
      }
    },
    {
      "cell_type": "code",
      "source": [
        "df.dtypes"
      ],
      "metadata": {
        "colab": {
          "base_uri": "https://localhost:8080/"
        },
        "id": "yWBWkpNqSDsn",
        "outputId": "c15274f7-8912-4f8e-d6ee-5cff13d4363d"
      },
      "execution_count": 4,
      "outputs": [
        {
          "output_type": "execute_result",
          "data": {
            "text/plain": [
              "PassengerId      int64\n",
              "Survived         int64\n",
              "Pclass           int64\n",
              "Name            object\n",
              "Sex             object\n",
              "Age            float64\n",
              "SibSp            int64\n",
              "Parch            int64\n",
              "Ticket          object\n",
              "Fare           float64\n",
              "Cabin           object\n",
              "Embarked        object\n",
              "dtype: object"
            ]
          },
          "metadata": {},
          "execution_count": 4
        }
      ]
    },
    {
      "cell_type": "markdown",
      "source": [
        "# Q2: สถิติเชิงพรรณนา (Descriptive Statistics)"
      ],
      "metadata": {
        "id": "WgYtObQWUT47"
      }
    },
    {
      "cell_type": "markdown",
      "source": [
        "## คํานวณและอธิบายค่าต่างๆสําหรับคอลัมน์ที่เป็นตัวเลข"
      ],
      "metadata": {
        "id": "ahxJ5gxiLIqB"
      }
    },
    {
      "cell_type": "markdown",
      "source": [
        "### ค่าเฉลี่ย (Mean)"
      ],
      "metadata": {
        "id": "61UI387NK2Io"
      }
    },
    {
      "cell_type": "code",
      "source": [
        "df.mean(numeric_only=True)"
      ],
      "metadata": {
        "colab": {
          "base_uri": "https://localhost:8080/"
        },
        "id": "vBCRg4QYVaEL",
        "outputId": "6f4c4b73-a538-4f33-fae8-8dd86e2059c4"
      },
      "execution_count": 5,
      "outputs": [
        {
          "output_type": "execute_result",
          "data": {
            "text/plain": [
              "PassengerId    446.000000\n",
              "Survived         0.383838\n",
              "Pclass           2.308642\n",
              "Age             29.699118\n",
              "SibSp            0.523008\n",
              "Parch            0.381594\n",
              "Fare            32.204208\n",
              "dtype: float64"
            ]
          },
          "metadata": {},
          "execution_count": 5
        }
      ]
    },
    {
      "cell_type": "markdown",
      "source": [
        "จะได้ค่าเฉลี่ย(Mean)ของค่าต่างๆออกมาดังข้างบนคือ  \n",
        "* PassengerId  =  446.000000  \n",
        "* Survived    =    0.383838  \n",
        "* Pclass     =      2.308642  \n",
        "* Age       =      29.699118  \n",
        "* SibSp     =       0.523008  \n",
        "* Parch     =       0.381594  \n",
        "* Fare      =      32.204208  "
      ],
      "metadata": {
        "id": "SfqEfAF1dvKo"
      }
    },
    {
      "cell_type": "markdown",
      "source": [
        "### ค่ามัธยฐาน (Median)"
      ],
      "metadata": {
        "id": "RagBf2ThK8cn"
      }
    },
    {
      "cell_type": "code",
      "source": [
        "num_columns = ['PassengerId', 'Survived','Pclass','Age','SibSp','Parch','Fare']\n",
        "num_df = df[num_columns]\n",
        "num_df.median()"
      ],
      "metadata": {
        "colab": {
          "base_uri": "https://localhost:8080/"
        },
        "id": "TpulAfDuevn5",
        "outputId": "964b7059-cf90-4ddb-c391-81c0c330e330"
      },
      "execution_count": 6,
      "outputs": [
        {
          "output_type": "execute_result",
          "data": {
            "text/plain": [
              "PassengerId    446.0000\n",
              "Survived         0.0000\n",
              "Pclass           3.0000\n",
              "Age             28.0000\n",
              "SibSp            0.0000\n",
              "Parch            0.0000\n",
              "Fare            14.4542\n",
              "dtype: float64"
            ]
          },
          "metadata": {},
          "execution_count": 6
        }
      ]
    },
    {
      "cell_type": "markdown",
      "source": [
        "จะได้ค่ามัธยฐาน(Median)ของค่าต่างๆออกมาดังข้างบนคือ  \n",
        "* PassengerId  =  446.0000\n",
        "* Survived    =     0.0000\n",
        "* Pclass     =      3.0000\n",
        "* Age       =      28.0000\n",
        "* SibSp     =       0.0000\n",
        "* Parch     =       0.0000\n",
        "* Fare      =      14.4542  \n",
        "พบว่าเกือบทุกค่าใกล้เคียงกับค่าเฉลี่ย ยกเว้นค่า Fare หรือค่าโดยสารที่ห่างจากค่าเฉลี่ยมาก"
      ],
      "metadata": {
        "id": "m8iBamePgNfn"
      }
    },
    {
      "cell_type": "markdown",
      "source": [
        "### ค่าฐานนิยม (Mode)"
      ],
      "metadata": {
        "id": "yXl6xKRLLQ5p"
      }
    },
    {
      "cell_type": "code",
      "source": [
        "num_df.mode().loc[0,]"
      ],
      "metadata": {
        "colab": {
          "base_uri": "https://localhost:8080/"
        },
        "id": "1AaHReqWdxMA",
        "outputId": "301e06ed-4d7e-4efa-caac-d1a53c8a7b2c"
      },
      "execution_count": 7,
      "outputs": [
        {
          "output_type": "execute_result",
          "data": {
            "text/plain": [
              "PassengerId     1.00\n",
              "Survived        0.00\n",
              "Pclass          3.00\n",
              "Age            24.00\n",
              "SibSp           0.00\n",
              "Parch           0.00\n",
              "Fare            8.05\n",
              "Name: 0, dtype: float64"
            ]
          },
          "metadata": {},
          "execution_count": 7
        }
      ]
    },
    {
      "cell_type": "markdown",
      "source": [
        "จะได้ค่าฐานนิยม(Mode)ของค่าต่างๆออกมาดังข้างบน  \n",
        "โดยค่ามัธยฐานหลายตัวมีค่าเป็น 0  \n",
        "ส่วนของ passengerid ไม่มีค่ามัธยฐานเนื่องจากเป็นค่าที่แตกต่างกันทุกค่า (primary key)    \n"
      ],
      "metadata": {
        "id": "xF6QqD1Hg303"
      }
    },
    {
      "cell_type": "markdown",
      "source": [
        "### ค่าส่วนเบี่ยงเบนมาตรฐาน (Standard deviation)"
      ],
      "metadata": {
        "id": "Jee8NcRWLY4v"
      }
    },
    {
      "cell_type": "code",
      "source": [
        "num_df.std()"
      ],
      "metadata": {
        "colab": {
          "base_uri": "https://localhost:8080/"
        },
        "id": "ew8aNTyUeDZ7",
        "outputId": "db18c916-13ea-4456-e2cd-521974534391"
      },
      "execution_count": 8,
      "outputs": [
        {
          "output_type": "execute_result",
          "data": {
            "text/plain": [
              "PassengerId    257.353842\n",
              "Survived         0.486592\n",
              "Pclass           0.836071\n",
              "Age             14.526497\n",
              "SibSp            1.102743\n",
              "Parch            0.806057\n",
              "Fare            49.693429\n",
              "dtype: float64"
            ]
          },
          "metadata": {},
          "execution_count": 8
        }
      ]
    },
    {
      "cell_type": "markdown",
      "source": [
        "ในส่วนของค่าเบี่ยงเบนมาตรฐาน(Standard deviation)มีอยู่ 3 ค่าที่มีค่าเบี่ยงเบนมาก\n",
        "1. PassengerId เนื่องจากมีค่าแตกต่างกันทุกตัว\n",
        "2. Age เนื่องจากอายุมีช่วงที่กว้างมาก\n",
        "3. Fare เนื่องจากค่าโดยสารมีตั้งแต่ราคาถูกถึงแพง\n",
        "\n"
      ],
      "metadata": {
        "id": "31RmwaIDz16D"
      }
    },
    {
      "cell_type": "markdown",
      "source": [
        "### ค่าช่วงควอไทล์ (Interquartile range)"
      ],
      "metadata": {
        "id": "_Xa7UjlKLfpx"
      }
    },
    {
      "cell_type": "code",
      "source": [
        "num_df.quantile(0.75) - num_df.quantile(0.25)"
      ],
      "metadata": {
        "id": "bWyTLL2_gctK",
        "outputId": "e3ec40c6-1f54-4ef3-9488-306a6dff7e2f",
        "colab": {
          "base_uri": "https://localhost:8080/"
        }
      },
      "execution_count": 9,
      "outputs": [
        {
          "output_type": "execute_result",
          "data": {
            "text/plain": [
              "PassengerId    445.0000\n",
              "Survived         1.0000\n",
              "Pclass           1.0000\n",
              "Age             17.8750\n",
              "SibSp            1.0000\n",
              "Parch            0.0000\n",
              "Fare            23.0896\n",
              "dtype: float64"
            ]
          },
          "metadata": {},
          "execution_count": 9
        }
      ]
    },
    {
      "cell_type": "code",
      "source": [
        "num_df.quantile(0.75)"
      ],
      "metadata": {
        "colab": {
          "base_uri": "https://localhost:8080/"
        },
        "id": "fwDxIe9jASmh",
        "outputId": "e2e389ea-ffc4-45ff-a30c-c96c2d30fadd"
      },
      "execution_count": 10,
      "outputs": [
        {
          "output_type": "execute_result",
          "data": {
            "text/plain": [
              "PassengerId    668.5\n",
              "Survived         1.0\n",
              "Pclass           3.0\n",
              "Age             38.0\n",
              "SibSp            1.0\n",
              "Parch            0.0\n",
              "Fare            31.0\n",
              "Name: 0.75, dtype: float64"
            ]
          },
          "metadata": {},
          "execution_count": 10
        }
      ]
    },
    {
      "cell_type": "code",
      "source": [
        "num_df.quantile(0.25)"
      ],
      "metadata": {
        "colab": {
          "base_uri": "https://localhost:8080/"
        },
        "id": "a0Ajr0e1AZiY",
        "outputId": "f41c1347-aabd-4490-e592-f3faf8aee591"
      },
      "execution_count": 11,
      "outputs": [
        {
          "output_type": "execute_result",
          "data": {
            "text/plain": [
              "PassengerId    223.5000\n",
              "Survived         0.0000\n",
              "Pclass           2.0000\n",
              "Age             20.1250\n",
              "SibSp            0.0000\n",
              "Parch            0.0000\n",
              "Fare             7.9104\n",
              "Name: 0.25, dtype: float64"
            ]
          },
          "metadata": {},
          "execution_count": 11
        }
      ]
    },
    {
      "cell_type": "markdown",
      "source": [
        "ในส่วนของค่าช่วงควอไทล์(Interquartile range)\n",
        "เป็นตัวบอกความห่างของช่วงระหว่าง Q3-Q1 เพื่อดูความกระจายของข้อมูล จะเห็นได้ว่าได้ค่าคล้ายกับ SD ที่เป็นตัวบ่งบอกความกระจายของข้อมูลเช่นกัน"
      ],
      "metadata": {
        "id": "_87EJHR52Z4n"
      }
    },
    {
      "cell_type": "markdown",
      "source": [
        "## คํานวณค่าส่วนเบี่ยงเบน (Skewness) สําหรับคอลัมน์ที่เป็นตัวเลข"
      ],
      "metadata": {
        "id": "EDEKuVltLjl8"
      }
    },
    {
      "cell_type": "code",
      "source": [
        "num_df.skew()"
      ],
      "metadata": {
        "colab": {
          "base_uri": "https://localhost:8080/"
        },
        "id": "fdcIZoa55v_a",
        "outputId": "e6a2ad32-1a35-465a-b0ec-0b475076f99e"
      },
      "execution_count": 12,
      "outputs": [
        {
          "output_type": "execute_result",
          "data": {
            "text/plain": [
              "PassengerId    0.000000\n",
              "Survived       0.478523\n",
              "Pclass        -0.630548\n",
              "Age            0.389108\n",
              "SibSp          3.695352\n",
              "Parch          2.749117\n",
              "Fare           4.787317\n",
              "dtype: float64"
            ]
          },
          "metadata": {},
          "execution_count": 12
        }
      ]
    },
    {
      "cell_type": "markdown",
      "source": [
        "ค่าส่วนเบี่ยงเบน(Skewness) บ่งบอกถึงการกระจายตัวของกราฟว่าเบ้ไปในทิศทางใด\n",
        "\n",
        " โดยที่ค่าส่วนเบี่ยงเบนเป็นบวกหมายถึงกราฟเบ้ขวา หมายถึงข้อมูลอยู่ฝั่งซ้ายของกราฟมากกว่าฝั่งขวา  \n",
        " ส่วนค่าส่วนเบี่ยงเบนเป็นลบหมายถึงกราฟเบ้ซ้ายหมายถึงข้อมูลอยู่ฝั่งขวาของกราฟมากกว่าฝั่งซ้าย  \n",
        "แสดงให้เห็นว่าค่า SibSp Parch และ Fare มีค่าส่วนเบี่ยงเบนมาก"
      ],
      "metadata": {
        "id": "VUcit8ym6B08"
      }
    },
    {
      "cell_type": "markdown",
      "source": [
        "## สรุปการกระจายตัวของแต่ละคอลัมน์ที่เป็นประเภทเชิงพรรณนา (Categorical columns)"
      ],
      "metadata": {
        "id": "e7wyUzvvKn2v"
      }
    },
    {
      "cell_type": "code",
      "source": [
        "sns.countplot(data = df, x='Name')"
      ],
      "metadata": {
        "colab": {
          "base_uri": "https://localhost:8080/",
          "height": 466
        },
        "id": "kATnMM9CPs2u",
        "outputId": "c5c64fef-2d90-4ac9-b130-4d8b47a368ca"
      },
      "execution_count": 13,
      "outputs": [
        {
          "output_type": "execute_result",
          "data": {
            "text/plain": [
              "<Axes: xlabel='Name', ylabel='count'>"
            ]
          },
          "metadata": {},
          "execution_count": 13
        },
        {
          "output_type": "display_data",
          "data": {
            "text/plain": [
              "<Figure size 640x480 with 1 Axes>"
            ],
            "image/png": "[encoded data removed]"
          },
          "metadata": {}
        }
      ]
    },
    {
      "cell_type": "code",
      "source": [
        "sns.countplot(data = df, x='Sex')"
      ],
      "metadata": {
        "colab": {
          "base_uri": "https://localhost:8080/",
          "height": 468
        },
        "id": "fD5jrR8uNYgn",
        "outputId": "40c2aae7-f3d5-41b1-9c60-aa9793336418"
      },
      "execution_count": 14,
      "outputs": [
        {
          "output_type": "execute_result",
          "data": {
            "text/plain": [
              "<Axes: xlabel='Sex', ylabel='count'>"
            ]
          },
          "metadata": {},
          "execution_count": 14
        },
        {
          "output_type": "display_data",
          "data": {
            "text/plain": [
              "<Figure size 640x480 with 1 Axes>"
            ],
            "image/png": "[encoded data removed]"
          },
          "metadata": {}
        }
      ]
    },
    {
      "cell_type": "code",
      "source": [
        "sns.countplot(data = df, x='Ticket')"
      ],
      "metadata": {
        "colab": {
          "base_uri": "https://localhost:8080/",
          "height": 466
        },
        "id": "-axNi14FL1fG",
        "outputId": "cf269053-049a-4248-f3f9-ed9e6abf208e"
      },
      "execution_count": 15,
      "outputs": [
        {
          "output_type": "execute_result",
          "data": {
            "text/plain": [
              "<Axes: xlabel='Ticket', ylabel='count'>"
            ]
          },
          "metadata": {},
          "execution_count": 15
        },
        {
          "output_type": "display_data",
          "data": {
            "text/plain": [
              "<Figure size 640x480 with 1 Axes>"
            ],
            "image/png": "[encoded data removed]"
          },
          "metadata": {}
        }
      ]
    },
    {
      "cell_type": "code",
      "source": [
        "sns.countplot(data = df, x='Cabin')"
      ],
      "metadata": {
        "colab": {
          "base_uri": "https://localhost:8080/",
          "height": 466
        },
        "id": "-Lij6FqpL9mV",
        "outputId": "f5e33003-9b47-46f2-abae-3ca904093494"
      },
      "execution_count": 16,
      "outputs": [
        {
          "output_type": "execute_result",
          "data": {
            "text/plain": [
              "<Axes: xlabel='Cabin', ylabel='count'>"
            ]
          },
          "metadata": {},
          "execution_count": 16
        },
        {
          "output_type": "display_data",
          "data": {
            "text/plain": [
              "<Figure size 640x480 with 1 Axes>"
            ],
            "image/png": "[encoded data removed]"
          },
          "metadata": {}
        }
      ]
    },
    {
      "cell_type": "code",
      "source": [
        "sns.countplot(data = df, x='Embarked')"
      ],
      "metadata": {
        "colab": {
          "base_uri": "https://localhost:8080/",
          "height": 466
        },
        "id": "bzTPazIZL_FR",
        "outputId": "2d2934bd-4a6e-41ce-9e53-0624e16f92b5"
      },
      "execution_count": 17,
      "outputs": [
        {
          "output_type": "execute_result",
          "data": {
            "text/plain": [
              "<Axes: xlabel='Embarked', ylabel='count'>"
            ]
          },
          "metadata": {},
          "execution_count": 17
        },
        {
          "output_type": "display_data",
          "data": {
            "text/plain": [
              "<Figure size 640x480 with 1 Axes>"
            ],
            "image/png": "[encoded data removed]"
          },
          "metadata": {}
        }
      ]
    },
    {
      "cell_type": "markdown",
      "source": [
        "จะเห็นได้ว่ามีแค่ตาราง sex กับ embarked ที่สามารถ plot ให้เห็นภาพได้ชัดเจนว่ามีการแบ่งเพศเป็น 2 เพศ และแบ่ง embarked หรือจุดที่ผู้โดยสารขึ้นเรือได้ 3 ที่"
      ],
      "metadata": {
        "id": "8aE0aUqFPqty"
      }
    },
    {
      "cell_type": "markdown",
      "source": [
        "# Q3: การตรวจหาข้อมูลที่ขาดหาย และผิดปกติ (Missing Data, Outliers)"
      ],
      "metadata": {
        "id": "-iL_7WjsQlRa"
      }
    },
    {
      "cell_type": "markdown",
      "source": [
        "## ตรวจสอบว่ามีค่าที่ขาดหาย (missing values) ในชุดข้อมูลหรือไม่ คอลัมน์ใดบ้างที่มีค่าที่ขาดหาย"
      ],
      "metadata": {
        "id": "vFSAtpgHa2Qf"
      }
    },
    {
      "cell_type": "code",
      "source": [
        "df.isnull().sum()"
      ],
      "metadata": {
        "colab": {
          "base_uri": "https://localhost:8080/"
        },
        "id": "W8pSNMd0TfH_",
        "outputId": "cf66e049-773f-458a-bfaf-61e5cf4d6545"
      },
      "execution_count": 18,
      "outputs": [
        {
          "output_type": "execute_result",
          "data": {
            "text/plain": [
              "PassengerId      0\n",
              "Survived         0\n",
              "Pclass           0\n",
              "Name             0\n",
              "Sex              0\n",
              "Age            177\n",
              "SibSp            0\n",
              "Parch            0\n",
              "Ticket           0\n",
              "Fare             0\n",
              "Cabin          687\n",
              "Embarked         2\n",
              "dtype: int64"
            ]
          },
          "metadata": {},
          "execution_count": 18
        }
      ]
    },
    {
      "cell_type": "markdown",
      "source": [
        "เห็นได้ว่ามี 3 คอลัมน์ คือ Age, Cabin และ Embarked ที่ข้อมูลขาดหายไป"
      ],
      "metadata": {
        "id": "Yqkd7_mVTiTP"
      }
    },
    {
      "cell_type": "markdown",
      "source": [
        "## แสดงภาพข้อมูลที่ขาดหายโดยใช้ heatmap"
      ],
      "metadata": {
        "id": "rtaId0babA7g"
      }
    },
    {
      "cell_type": "code",
      "source": [
        "sns.heatmap(df.isnull(), yticklabels=False, cbar=False, cmap='viridis')"
      ],
      "metadata": {
        "colab": {
          "base_uri": "https://localhost:8080/",
          "height": 517
        },
        "id": "5OZE2cqgbFqS",
        "outputId": "414ecf96-0a33-4ea9-a11d-ccff1a8cb2f5"
      },
      "execution_count": 19,
      "outputs": [
        {
          "output_type": "execute_result",
          "data": {
            "text/plain": [
              "<Axes: >"
            ]
          },
          "metadata": {},
          "execution_count": 19
        },
        {
          "output_type": "display_data",
          "data": {
            "text/plain": [
              "<Figure size 640x480 with 1 Axes>"
            ],
            "image/png": "[encoded data removed]"
          },
          "metadata": {}
        }
      ]
    },
    {
      "cell_type": "markdown",
      "source": [
        "จาก heatmap แสดงให้เห็นว่าข้อมูล Age มีข้อมูลหายไปส่วนหนึ่ง ส่วนข้อมูล Cabin มีข้อมูลหายไปเป็นจำนวนมาก และ Emabrked มีข้อมูลหายไปเพียงแค่ 2 ตัว"
      ],
      "metadata": {
        "id": "PnKqEMDnbPuL"
      }
    },
    {
      "cell_type": "markdown",
      "source": [
        "## ยกตัวอย่างสองถึงสามตัวแปรที่มีค่าผิดปกติ (outliers)"
      ],
      "metadata": {
        "id": "SOyQh73Gxp_x"
      }
    },
    {
      "cell_type": "code",
      "source": [
        "sns.histplot(data = df, x='Fare')"
      ],
      "metadata": {
        "colab": {
          "base_uri": "https://localhost:8080/",
          "height": 466
        },
        "id": "tg4uRLZjx9ga",
        "outputId": "e0c71d4a-6acb-45a2-fd2e-52701adf52fb"
      },
      "execution_count": 20,
      "outputs": [
        {
          "output_type": "execute_result",
          "data": {
            "text/plain": [
              "<Axes: xlabel='Fare', ylabel='Count'>"
            ]
          },
          "metadata": {},
          "execution_count": 20
        },
        {
          "output_type": "display_data",
          "data": {
            "text/plain": [
              "<Figure size 640x480 with 1 Axes>"
            ],
            "image/png": "[encoded data removed]"
          },
          "metadata": {}
        }
      ]
    },
    {
      "cell_type": "markdown",
      "source": [
        "จาก Histogram ของ Fare จะเห็นได้ชัดว่ามี outlier อยู่หนึ่งตัวที่ค่าโดยสารมากกว่า 500$"
      ],
      "metadata": {
        "id": "0qpjIYP0sHFa"
      }
    },
    {
      "cell_type": "code",
      "source": [
        "sns.histplot(data = df, x='SibSp')"
      ],
      "metadata": {
        "colab": {
          "base_uri": "https://localhost:8080/",
          "height": 466
        },
        "id": "qcuw7Aw4sRSm",
        "outputId": "139e086b-84aa-4c2e-dedc-42aef3e4c446"
      },
      "execution_count": 21,
      "outputs": [
        {
          "output_type": "execute_result",
          "data": {
            "text/plain": [
              "<Axes: xlabel='SibSp', ylabel='Count'>"
            ]
          },
          "metadata": {},
          "execution_count": 21
        },
        {
          "output_type": "display_data",
          "data": {
            "text/plain": [
              "<Figure size 640x480 with 1 Axes>"
            ],
            "image/png": "[encoded data removed]"
          },
          "metadata": {}
        }
      ]
    },
    {
      "cell_type": "markdown",
      "source": [
        "จะเห็นได้ว่ามีค่า SibSp หรือจำนวนพี่น้อง/คู่สมรสที่ขึ้นเรือมาด้วยอยู่หนึ่งตัวที่มีค่าสูงกว่าค่าเฉลี่ยอื่นๆ คือที่ SibSp = 8"
      ],
      "metadata": {
        "id": "vq9clvn7uUzn"
      }
    },
    {
      "cell_type": "markdown",
      "source": [
        "# Q4: การแสดงข้อมูลด้วยกราฟ (Data Visualization)"
      ],
      "metadata": {
        "id": "VWIxuH6cx-V-"
      }
    },
    {
      "cell_type": "markdown",
      "source": [
        "## สร้างฮิสโตแกรม (Histograms) สําหรับคอลัมน์อายุ (Age) และค่าโดยสาร (Fare)"
      ],
      "metadata": {
        "id": "CbbSREJnyFAO"
      }
    },
    {
      "cell_type": "code",
      "source": [
        "selected_var = 'Age'\n",
        "# df.hist(column=selected_var)\n",
        "df[selected_var].hist()\n",
        "plt.title(selected_var + ' Histogram')\n",
        "plt.xlabel(selected_var)\n",
        "plt.ylabel('Frequency')"
      ],
      "metadata": {
        "colab": {
          "base_uri": "https://localhost:8080/",
          "height": 489
        },
        "id": "NGjtwelPyCso",
        "outputId": "eff1432f-914a-48ec-cd65-716cd7968069"
      },
      "execution_count": 22,
      "outputs": [
        {
          "output_type": "execute_result",
          "data": {
            "text/plain": [
              "Text(0, 0.5, 'Frequency')"
            ]
          },
          "metadata": {},
          "execution_count": 22
        },
        {
          "output_type": "display_data",
          "data": {
            "text/plain": [
              "<Figure size 640x480 with 1 Axes>"
            ],
            "image/png": "[encoded data removed]"
          },
          "metadata": {}
        }
      ]
    },
    {
      "cell_type": "markdown",
      "source": [
        "การกระจายของอายุจะเห็นได้ว่าอายุช่วง 20-30 มีค่าเยอะที่สุด จากนั้นค่อยๆลดหลั่นลงมาจนถึงอายุ 80 และช่วงอายุ 0-20 มีค่าไม่มากนักเนื่องจากยังเป็นเด็กอยู่จึงไม่สามารถเดินทางคนเดียวได้"
      ],
      "metadata": {
        "id": "MRSD7O3Cz8U1"
      }
    },
    {
      "cell_type": "code",
      "source": [
        "selected_var = 'Fare'\n",
        "# df.hist(column=selected_var)\n",
        "df[selected_var].hist()\n",
        "plt.title(selected_var + ' Histogram')\n",
        "plt.xlabel(selected_var)\n",
        "plt.ylabel('Frequency')"
      ],
      "metadata": {
        "colab": {
          "base_uri": "https://localhost:8080/",
          "height": 489
        },
        "id": "dLAq4WBQz2CO",
        "outputId": "53bde5a8-4fd5-40b8-d340-3f1d02198d08"
      },
      "execution_count": 23,
      "outputs": [
        {
          "output_type": "execute_result",
          "data": {
            "text/plain": [
              "Text(0, 0.5, 'Frequency')"
            ]
          },
          "metadata": {},
          "execution_count": 23
        },
        {
          "output_type": "display_data",
          "data": {
            "text/plain": [
              "<Figure size 640x480 with 1 Axes>"
            ],
            "image/png": "[encoded data removed]"
          },
          "metadata": {}
        }
      ]
    },
    {
      "cell_type": "markdown",
      "source": [
        "ในส่วนของค่าโดยสารนั้นส่วนใหญ่นั้นอยู่ในช่วง 0-50 และเกือบทั้งหมดอยู่ในช่วง 0-100 ส่วนน้อยนั้นไม่เกิน 300 และมีค่าโดยสารที่มีราคา 800 อยู่ 1 ตัวแสดงให้เห็นว่าค่าโดยสารส่วนมากมีราคาถูก คือผู้โดยสารชั้นทั่วไปที่มีจำนวนมากซื้อตั๋วราคาไม่แพงมาก และส่วนน้อยที่มีราคาแพงขึ้นมาหน่อย คือผู้โดยสารชั้นสูงขึ้นมาที่มีจำนวนผู้โดยสารน้อยลง"
      ],
      "metadata": {
        "id": "M3b1p33J1iRQ"
      }
    },
    {
      "cell_type": "markdown",
      "source": [
        "## สร้างกล่องกราฟ (box plots) สําหรับคอลัมน์อายุ (Age), ค่าโดยสาร (Fare), และจํานวนพี่น้อง/คู่สมรส (SibSp)"
      ],
      "metadata": {
        "id": "jYhaNRVM0m2h"
      }
    },
    {
      "cell_type": "code",
      "source": [
        "df[[\"Age\", \"Fare\", \"SibSp\"]].plot.box()"
      ],
      "metadata": {
        "colab": {
          "base_uri": "https://localhost:8080/",
          "height": 447
        },
        "id": "MRPN8g9d0lZs",
        "outputId": "c633b543-c169-496f-a6a9-56615fdbde25"
      },
      "execution_count": 24,
      "outputs": [
        {
          "output_type": "execute_result",
          "data": {
            "text/plain": [
              "<Axes: >"
            ]
          },
          "metadata": {},
          "execution_count": 24
        },
        {
          "output_type": "display_data",
          "data": {
            "text/plain": [
              "<Figure size 640x480 with 1 Axes>"
            ],
            "image/png": "[encoded data removed]"
          },
          "metadata": {}
        }
      ]
    },
    {
      "cell_type": "markdown",
      "source": [
        "สำหรับ Boxplot นั้นจะมีการ plot outlier มาให้ด้วยทำให้เห็นภาพว่าข้อมูลใดที่มีการกระจายแบบผิดปกติ"
      ],
      "metadata": {
        "id": "kpr5n9we4d8J"
      }
    },
    {
      "cell_type": "code",
      "source": [
        "sns.boxplot(x='Age', data=df)"
      ],
      "metadata": {
        "colab": {
          "base_uri": "https://localhost:8080/",
          "height": 466
        },
        "id": "m89tti0z1AVs",
        "outputId": "3a5ab6c3-079e-46ed-879b-0e8b87bfb67f"
      },
      "execution_count": 25,
      "outputs": [
        {
          "output_type": "execute_result",
          "data": {
            "text/plain": [
              "<Axes: xlabel='Age'>"
            ]
          },
          "metadata": {},
          "execution_count": 25
        },
        {
          "output_type": "display_data",
          "data": {
            "text/plain": [
              "<Figure size 640x480 with 1 Axes>"
            ],
            "image/png": "[encoded data removed]"
          },
          "metadata": {}
        }
      ]
    },
    {
      "cell_type": "markdown",
      "source": [
        "ในส่วนของอายุนั้นมีค่าเฉลี่ยอยู่ที่ประมาณ 29 ปี ส่วนอายุที่เกิน 65 ปีกลายเป็น outlier และอายุส่วนใหญ่กระจายตัวอยู่ระหว่าง 20-40 ปี"
      ],
      "metadata": {
        "id": "GXPrs8QF4y7_"
      }
    },
    {
      "cell_type": "code",
      "source": [
        "sns.boxplot(x='Fare', data=df)"
      ],
      "metadata": {
        "colab": {
          "base_uri": "https://localhost:8080/",
          "height": 466
        },
        "id": "R9oxiwQi1Ci0",
        "outputId": "8237e3d2-9c3b-4491-86fb-0272a9d3ce18"
      },
      "execution_count": 26,
      "outputs": [
        {
          "output_type": "execute_result",
          "data": {
            "text/plain": [
              "<Axes: xlabel='Fare'>"
            ]
          },
          "metadata": {},
          "execution_count": 26
        },
        {
          "output_type": "display_data",
          "data": {
            "text/plain": [
              "<Figure size 640x480 with 1 Axes>"
            ],
            "image/png": "[encoded data removed]"
          },
          "metadata": {}
        }
      ]
    },
    {
      "cell_type": "markdown",
      "source": [
        "ส่วนของค่าโดยสารนั้นมีค่าเฉลี่ยอยู่ที่ประมาณ 30\\$ มี outlier จำนวนมาก ตั้งแต่เกือบเกิน 100\\$ ขึ้นไปนับว่าเป็น outlier และค่าโดยสารส่วนใหญ่กระจายตัวอยู่ระหว่าง 8-31 \\$"
      ],
      "metadata": {
        "id": "02JmH_sk_YEc"
      }
    },
    {
      "cell_type": "code",
      "source": [
        "sns.boxplot(x='SibSp', data=df)"
      ],
      "metadata": {
        "colab": {
          "base_uri": "https://localhost:8080/",
          "height": 466
        },
        "id": "UfcvGMXz1Ctw",
        "outputId": "668aea61-4ac8-4053-f2bc-bb93b3912af9"
      },
      "execution_count": 27,
      "outputs": [
        {
          "output_type": "execute_result",
          "data": {
            "text/plain": [
              "<Axes: xlabel='SibSp'>"
            ]
          },
          "metadata": {},
          "execution_count": 27
        },
        {
          "output_type": "display_data",
          "data": {
            "text/plain": [
              "<Figure size 640x480 with 1 Axes>"
            ],
            "image/png": "[encoded data removed]"
          },
          "metadata": {}
        }
      ]
    },
    {
      "cell_type": "markdown",
      "source": [
        "ส่วนของจํานวนพี่น้อง/คู่สมรส มีค่าเฉลี่ยอยู่ที่ 0 คน และจำนวนที่เกิน 3 ถือเป็น outlier ทั้งหมด และจํานวนพี่น้อง/คู่สมรสส่วนใหญ่กระจายตัวอยู่ระหว่าง 0-1 คน"
      ],
      "metadata": {
        "id": "mZF-tFh9_yhE"
      }
    },
    {
      "cell_type": "markdown",
      "source": [
        "# Q5: การสํารวจความสัมพันธ์ระหว่างคอลัมน์ตัวเลข (Exploring Relationships between Numerical Columns)"
      ],
      "metadata": {
        "id": "_AzY9GKGAtnk"
      }
    },
    {
      "cell_type": "markdown",
      "source": [
        "## คํานวณค่าสัมประสิทธิ์สหสัมพันธ์แบบเพียร์สัน (Pearson correlation coefficient) ระหว่างอายุ (Age) และค่าโดยสาร (Fare)"
      ],
      "metadata": {
        "id": "QoCfzR0CCTMS"
      }
    },
    {
      "cell_type": "code",
      "source": [
        "pearson_correlation = df['Age'].corr(df['Fare'])\n",
        "pearson_correlation"
      ],
      "metadata": {
        "colab": {
          "base_uri": "https://localhost:8080/"
        },
        "id": "Z5VroViCIROM",
        "outputId": "eac9bfa7-86e0-4167-ccf3-b86e8704383d"
      },
      "execution_count": 28,
      "outputs": [
        {
          "output_type": "execute_result",
          "data": {
            "text/plain": [
              "0.0960666917690389"
            ]
          },
          "metadata": {},
          "execution_count": 28
        }
      ]
    },
    {
      "cell_type": "markdown",
      "source": [
        "สำหรับค่าสัมประสิทธิ์สหสัมพันธ์แบบเพียร์สัน ถ้ามีค่าระหว่าง 0-1 ถึง แสดงว่ามีแนวโน้มในการแปรผันตรงกัน แต่ถ้าอยูระหว่าง -1 ถึง 0 จะมีแนวโน้มในการแปรผกผันกัน และถ้าเป็น 0 จะแสดงว่าไม่มีความเกี่ยวข้องกัน  \n",
        "โดยจากค่าที่ได้คือประมาณ 0.1 แสดงว่าระหว่างค่า Age กับ Fare แทบจะไม่มีความเกี่ยวข้องกันเลย"
      ],
      "metadata": {
        "id": "mb8mbiDqKK1u"
      }
    },
    {
      "cell_type": "markdown",
      "source": [
        "## สร้างกราฟกระจาย (scatter plot) เพื่อแสดงความสัมพันธ์ระหว่างอายุ (Age) และค่าโดยสาร (Fare)"
      ],
      "metadata": {
        "id": "m7lDmaKjPcvL"
      }
    },
    {
      "cell_type": "code",
      "source": [
        "df.plot.scatter(x=\"Age\", y=\"Fare\")"
      ],
      "metadata": {
        "colab": {
          "base_uri": "https://localhost:8080/",
          "height": 466
        },
        "id": "37AmpfPpPkOx",
        "outputId": "87a072a8-6e02-4f74-f1a6-a90dd50b9370"
      },
      "execution_count": 29,
      "outputs": [
        {
          "output_type": "execute_result",
          "data": {
            "text/plain": [
              "<Axes: xlabel='Age', ylabel='Fare'>"
            ]
          },
          "metadata": {},
          "execution_count": 29
        },
        {
          "output_type": "display_data",
          "data": {
            "text/plain": [
              "<Figure size 640x480 with 1 Axes>"
            ],
            "image/png": "[encoded data removed]"
          },
          "metadata": {}
        }
      ]
    },
    {
      "cell_type": "markdown",
      "source": [
        "สังเกตได้ว่า แม้อายุของผู้โดยสารจะมากขึ้น ก็ไม่มีแนวโน้มที่ค่าโดยสารจะเพิ่มขึ้นตามด้วย และเกือบทั้งหมดที่อายุต่ำกว่า 20 ปีซื้อตั๋วราคาถูกกว่า 100\\$"
      ],
      "metadata": {
        "id": "AEzPZHirPo5_"
      }
    },
    {
      "cell_type": "markdown",
      "source": [
        "## สร้าง pairplot สําหรับอายุ (Age), ค่าโดยสาร (Fare), และจํานวนพี่น้อง/คู่สมรส (SibSp)"
      ],
      "metadata": {
        "id": "ynp-tfA-Q2ab"
      }
    },
    {
      "cell_type": "code",
      "source": [
        "pairplot_columns = df[['Age', 'Fare', 'SibSp']]\n",
        "sns.pairplot(pairplot_columns)"
      ],
      "metadata": {
        "colab": {
          "base_uri": "https://localhost:8080/",
          "height": 775
        },
        "id": "ZCG69DHEWK-f",
        "outputId": "af828f72-0bcc-4619-8757-fffef70ed28d"
      },
      "execution_count": 30,
      "outputs": [
        {
          "output_type": "execute_result",
          "data": {
            "text/plain": [
              "<seaborn.axisgrid.PairGrid at 0x783eae0307c0>"
            ]
          },
          "metadata": {},
          "execution_count": 30
        },
        {
          "output_type": "display_data",
          "data": {
            "text/plain": [
              "<Figure size 750x750 with 12 Axes>"
            ],
            "image/png": "[encoded data removed]"
          },
          "metadata": {}
        }
      ]
    },
    {
      "cell_type": "markdown",
      "source": [
        "จากกราฟระหว่าง Age กับ SibSp จะเห็นได้ว่ากลุ่มคนที่มีอายุน้อยกว่า 20 เท่านั้นที่จะมีจํานวนพี่น้อง/คู่สมรสมากกว่า 4 คน"
      ],
      "metadata": {
        "id": "3zJB3nQDZ5d7"
      }
    },
    {
      "cell_type": "markdown",
      "source": [
        "# Q6: การสํารวจความสัมพันธ์ระหว่างคอลัมน์เชิงพรรณนา (Exploring Relationships between Categorical Columns)"
      ],
      "metadata": {
        "id": "eWXDpknJhDwF"
      }
    },
    {
      "cell_type": "markdown",
      "source": [
        "## สร้างตารางแจกแจง (contingency table) เพื่อแสดงการกระจายตัวของการรอดชีวิต (Survival) ในแต่ละประเภทชั้นโดยสาร (Pclass)"
      ],
      "metadata": {
        "id": "8KvwXVPskSTP"
      }
    },
    {
      "cell_type": "code",
      "source": [
        "sns.countplot(data=df, x=\"Survived\", hue=\"Pclass\")"
      ],
      "metadata": {
        "colab": {
          "base_uri": "https://localhost:8080/",
          "height": 466
        },
        "id": "0vSedb8bieE3",
        "outputId": "1769ba25-1ea6-4854-c36f-c808509a81a4"
      },
      "execution_count": 31,
      "outputs": [
        {
          "output_type": "execute_result",
          "data": {
            "text/plain": [
              "<Axes: xlabel='Survived', ylabel='count'>"
            ]
          },
          "metadata": {},
          "execution_count": 31
        },
        {
          "output_type": "display_data",
          "data": {
            "text/plain": [
              "<Figure size 640x480 with 1 Axes>"
            ],
            "image/png": "[encoded data removed]"
          },
          "metadata": {}
        }
      ]
    },
    {
      "cell_type": "markdown",
      "source": [
        "จากที่กราฟเปรียบเทียบจะเห็นได้ชัดเจนว่า ผู้โดยสารชั้น 3 นั้นมีจำนวนการเสียชีวิตมากกว่าชั้นอื่นๆ อาจเกิดจากการที่มีผู้โดยสารชั้น 3 มากกว่าชั้นอื่นๆ แต่ดูอัตราส่วนการรอด/ไม่รอดของผู้โดยสารชั้นอื่นๆแล้ว สรุปได้ว่าผู้โดยสารชั้น 3 มีอัตรารอดต่ำกว่าผู้โดยสารชั้นอื่นๆ"
      ],
      "metadata": {
        "id": "1koE6cVYlNcJ"
      }
    },
    {
      "cell_type": "code",
      "source": [
        "contingency_table = pd.crosstab(df['Survived'], df['Pclass'])\n",
        "\n",
        "observed = contingency_table.values\n",
        "\n",
        "# คำนวนค่า expected value\n",
        "row_totals = contingency_table.sum(axis=1).values\n",
        "column_totals = contingency_table.sum(axis=0).values\n",
        "total_population = contingency_table.values.sum()\n",
        "\n",
        "expected = []\n",
        "for i in range(len(row_totals)):\n",
        "    expected_row = []\n",
        "    for j in range(len(column_totals)):\n",
        "        expected_value = (row_totals[i] * column_totals[j]) / total_population\n",
        "        expected_row.append(expected_value)\n",
        "    expected.append(expected_row)\n",
        "\n",
        "expected = np.array(expected)\n",
        "\n",
        "# Calculate Chi-Square statistic\n",
        "chi2 = ((observed - expected) ** 2 / expected).sum()\n",
        "\n",
        "# Degrees of Freedom\n",
        "degrees_of_freedom = (len(row_totals) - 1) * (len(column_totals) - 1)\n",
        "print(f\"Chi-Square Statistic: {chi2}\")\n",
        "print(f\"Degrees of Freedom: {degrees_of_freedom}\")"
      ],
      "metadata": {
        "colab": {
          "base_uri": "https://localhost:8080/"
        },
        "id": "HPimSplMpUbl",
        "outputId": "f0523a88-2ee9-4866-95d2-07d6fcffef0f"
      },
      "execution_count": 32,
      "outputs": [
        {
          "output_type": "stream",
          "name": "stdout",
          "text": [
            "Chi-Square Statistic: 102.88898875696056\n",
            "Degrees of Freedom: 2\n"
          ]
        }
      ]
    },
    {
      "cell_type": "markdown",
      "source": [
        "จากค่าที่ได้จะเห็นได้ว่าค่า Chi-Square มีค่าสูงมาก หมายความว่าค่า Survived กับ Pclass มีความสัมพันธ์กันอย่างมาก"
      ],
      "metadata": {
        "id": "IJhvyjs9Z5Xf"
      }
    }
  ]
}