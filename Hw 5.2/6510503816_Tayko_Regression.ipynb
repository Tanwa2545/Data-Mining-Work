{
  "nbformat": 4,
  "nbformat_minor": 0,
  "metadata": {
    "colab": {
      "provenance": [],
      "toc_visible": true
    },
    "kernelspec": {
      "name": "python3",
      "display_name": "Python 3"
    },
    "language_info": {
      "name": "python"
    }
  },
  "cells": [
    {
      "cell_type": "markdown",
      "source": [
        "# Importing the libraries"
      ],
      "metadata": {
        "id": "G4TZPlhE1BaA"
      }
    },
    {
      "cell_type": "code",
      "execution_count": 1,
      "metadata": {
        "id": "YKzR_Ym80zhf"
      },
      "outputs": [],
      "source": [
        "import numpy as np\n",
        "import matplotlib.pyplot as plt\n",
        "import pandas as pd\n",
        "import seaborn as sns"
      ]
    },
    {
      "cell_type": "markdown",
      "source": [
        "# Importing the dataset"
      ],
      "metadata": {
        "id": "u-zX4vUE1Hnb"
      }
    },
    {
      "cell_type": "code",
      "source": [
        "df = pd.read_csv('Tayko.csv')\n",
        "df.head\n",
        "df.dtypes"
      ],
      "metadata": {
        "id": "AnOdkkOT1Jl1",
        "colab": {
          "base_uri": "https://localhost:8080/"
        },
        "outputId": "5144fadd-7623-4ac8-a619-638955dd5148"
      },
      "execution_count": 2,
      "outputs": [
        {
          "output_type": "execute_result",
          "data": {
            "text/plain": [
              "sequence_number           int64\n",
              "US                        int64\n",
              "source_a                  int64\n",
              "source_c                  int64\n",
              "source_b                  int64\n",
              "source_d                  int64\n",
              "source_e                  int64\n",
              "source_m                  int64\n",
              "source_o                  int64\n",
              "source_h                  int64\n",
              "source_r                  int64\n",
              "source_s                  int64\n",
              "source_t                  int64\n",
              "source_u                  int64\n",
              "source_p                  int64\n",
              "source_x                  int64\n",
              "source_w                  int64\n",
              "Freq                      int64\n",
              "last_update_days_ago      int64\n",
              "1st_update_days_ago       int64\n",
              "Web order                 int64\n",
              "Gender=male               int64\n",
              "Address_is_res            int64\n",
              "Purchase                  int64\n",
              "Spending                  int64\n",
              "Partition                object\n",
              "Unnamed: 26             float64\n",
              "Unnamed: 27             float64\n",
              "dtype: object"
            ]
          },
          "metadata": {},
          "execution_count": 2
        }
      ]
    },
    {
      "cell_type": "markdown",
      "source": [
        "# Exploring data set"
      ],
      "metadata": {
        "id": "bPk0WGz19_d_"
      }
    },
    {
      "cell_type": "code",
      "source": [
        "df.head()"
      ],
      "metadata": {
        "colab": {
          "base_uri": "https://localhost:8080/",
          "height": 273
        },
        "id": "yCSP0Q7d1p98",
        "outputId": "bc9903a6-6bb6-42b6-d71a-849818c5b998"
      },
      "execution_count": 3,
      "outputs": [
        {
          "output_type": "execute_result",
          "data": {
            "text/plain": [
              "   sequence_number  US  source_a  source_c  source_b  source_d  source_e  \\\n",
              "0                1   1         0         0         1         0         0   \n",
              "1                2   1         0         0         0         0         1   \n",
              "2                3   1         0         0         0         0         0   \n",
              "3                4   1         0         1         0         0         0   \n",
              "4                5   1         0         1         0         0         0   \n",
              "\n",
              "   source_m  source_o  source_h  ...  last_update_days_ago  \\\n",
              "0         0         0         0  ...                  3662   \n",
              "1         0         0         0  ...                  2900   \n",
              "2         0         0         0  ...                  3883   \n",
              "3         0         0         0  ...                   829   \n",
              "4         0         0         0  ...                   869   \n",
              "\n",
              "   1st_update_days_ago  Web order  Gender=male  Address_is_res  Purchase  \\\n",
              "0                 3662          1            0               1         1   \n",
              "1                 2900          1            1               0         0   \n",
              "2                 3914          0            0               0         1   \n",
              "3                  829          0            1               0         0   \n",
              "4                  869          0            0               0         0   \n",
              "\n",
              "   Spending  Partition  Unnamed: 26  Unnamed: 27  \n",
              "0       128          s          NaN          NaN  \n",
              "1         0          s          NaN          NaN  \n",
              "2       127          t          NaN          NaN  \n",
              "3         0          s          NaN          NaN  \n",
              "4         0          t          NaN          NaN  \n",
              "\n",
              "[5 rows x 28 columns]"
            ],
            "text/html": [
              "\n",
              "  <div id=\"df-49213cc7-9a61-4041-8030-318a5c356580\" class=\"colab-df-container\">\n",
              "    <div>\n",
              "<style scoped>\n",
              "    .dataframe tbody tr th:only-of-type {\n",
              "        vertical-align: middle;\n",
              "    }\n",
              "\n",
              "    .dataframe tbody tr th {\n",
              "        vertical-align: top;\n",
              "    }\n",
              "\n",
              "    .dataframe thead th {\n",
              "        text-align: right;\n",
              "    }\n",
              "</style>\n",
              "<table border=\"1\" class=\"dataframe\">\n",
              "  <thead>\n",
              "    <tr style=\"text-align: right;\">\n",
              "      <th></th>\n",
              "      <th>sequence_number</th>\n",
              "      <th>US</th>\n",
              "      <th>source_a</th>\n",
              "      <th>source_c</th>\n",
              "      <th>source_b</th>\n",
              "      <th>source_d</th>\n",
              "      <th>source_e</th>\n",
              "      <th>source_m</th>\n",
              "      <th>source_o</th>\n",
              "      <th>source_h</th>\n",
              "      <th>...</th>\n",
              "      <th>last_update_days_ago</th>\n",
              "      <th>1st_update_days_ago</th>\n",
              "      <th>Web order</th>\n",
              "      <th>Gender=male</th>\n",
              "      <th>Address_is_res</th>\n",
              "      <th>Purchase</th>\n",
              "      <th>Spending</th>\n",
              "      <th>Partition</th>\n",
              "      <th>Unnamed: 26</th>\n",
              "      <th>Unnamed: 27</th>\n",
              "    </tr>\n",
              "  </thead>\n",
              "  <tbody>\n",
              "    <tr>\n",
              "      <th>0</th>\n",
              "      <td>1</td>\n",
              "      <td>1</td>\n",
              "      <td>0</td>\n",
              "      <td>0</td>\n",
              "      <td>1</td>\n",
              "      <td>0</td>\n",
              "      <td>0</td>\n",
              "      <td>0</td>\n",
              "      <td>0</td>\n",
              "      <td>0</td>\n",
              "      <td>...</td>\n",
              "      <td>3662</td>\n",
              "      <td>3662</td>\n",
              "      <td>1</td>\n",
              "      <td>0</td>\n",
              "      <td>1</td>\n",
              "      <td>1</td>\n",
              "      <td>128</td>\n",
              "      <td>s</td>\n",
              "      <td>NaN</td>\n",
              "      <td>NaN</td>\n",
              "    </tr>\n",
              "    <tr>\n",
              "      <th>1</th>\n",
              "      <td>2</td>\n",
              "      <td>1</td>\n",
              "      <td>0</td>\n",
              "      <td>0</td>\n",
              "      <td>0</td>\n",
              "      <td>0</td>\n",
              "      <td>1</td>\n",
              "      <td>0</td>\n",
              "      <td>0</td>\n",
              "      <td>0</td>\n",
              "      <td>...</td>\n",
              "      <td>2900</td>\n",
              "      <td>2900</td>\n",
              "      <td>1</td>\n",
              "      <td>1</td>\n",
              "      <td>0</td>\n",
              "      <td>0</td>\n",
              "      <td>0</td>\n",
              "      <td>s</td>\n",
              "      <td>NaN</td>\n",
              "      <td>NaN</td>\n",
              "    </tr>\n",
              "    <tr>\n",
              "      <th>2</th>\n",
              "      <td>3</td>\n",
              "      <td>1</td>\n",
              "      <td>0</td>\n",
              "      <td>0</td>\n",
              "      <td>0</td>\n",
              "      <td>0</td>\n",
              "      <td>0</td>\n",
              "      <td>0</td>\n",
              "      <td>0</td>\n",
              "      <td>0</td>\n",
              "      <td>...</td>\n",
              "      <td>3883</td>\n",
              "      <td>3914</td>\n",
              "      <td>0</td>\n",
              "      <td>0</td>\n",
              "      <td>0</td>\n",
              "      <td>1</td>\n",
              "      <td>127</td>\n",
              "      <td>t</td>\n",
              "      <td>NaN</td>\n",
              "      <td>NaN</td>\n",
              "    </tr>\n",
              "    <tr>\n",
              "      <th>3</th>\n",
              "      <td>4</td>\n",
              "      <td>1</td>\n",
              "      <td>0</td>\n",
              "      <td>1</td>\n",
              "      <td>0</td>\n",
              "      <td>0</td>\n",
              "      <td>0</td>\n",
              "      <td>0</td>\n",
              "      <td>0</td>\n",
              "      <td>0</td>\n",
              "      <td>...</td>\n",
              "      <td>829</td>\n",
              "      <td>829</td>\n",
              "      <td>0</td>\n",
              "      <td>1</td>\n",
              "      <td>0</td>\n",
              "      <td>0</td>\n",
              "      <td>0</td>\n",
              "      <td>s</td>\n",
              "      <td>NaN</td>\n",
              "      <td>NaN</td>\n",
              "    </tr>\n",
              "    <tr>\n",
              "      <th>4</th>\n",
              "      <td>5</td>\n",
              "      <td>1</td>\n",
              "      <td>0</td>\n",
              "      <td>1</td>\n",
              "      <td>0</td>\n",
              "      <td>0</td>\n",
              "      <td>0</td>\n",
              "      <td>0</td>\n",
              "      <td>0</td>\n",
              "      <td>0</td>\n",
              "      <td>...</td>\n",
              "      <td>869</td>\n",
              "      <td>869</td>\n",
              "      <td>0</td>\n",
              "      <td>0</td>\n",
              "      <td>0</td>\n",
              "      <td>0</td>\n",
              "      <td>0</td>\n",
              "      <td>t</td>\n",
              "      <td>NaN</td>\n",
              "      <td>NaN</td>\n",
              "    </tr>\n",
              "  </tbody>\n",
              "</table>\n",
              "<p>5 rows × 28 columns</p>\n",
              "</div>\n",
              "    <div class=\"colab-df-buttons\">\n",
              "\n",
              "  <div class=\"colab-df-container\">\n",
              "    <button class=\"colab-df-convert\" onclick=\"convertToInteractive('df-49213cc7-9a61-4041-8030-318a5c356580')\"\n",
              "            title=\"Convert this dataframe to an interactive table.\"\n",
              "            style=\"display:none;\">\n",
              "\n",
              "  <svg xmlns=\"http://www.w3.org/2000/svg\" height=\"24px\" viewBox=\"0 -960 960 960\">\n",
              "    <path d=\"M120-120v-720h720v720H120Zm60-500h600v-160H180v160Zm220 220h160v-160H400v160Zm0 220h160v-160H400v160ZM180-400h160v-160H180v160Zm440 0h160v-160H620v160ZM180-180h160v-160H180v160Zm440 0h160v-160H620v160Z\"/>\n",
              "  </svg>\n",
              "    </button>\n",
              "\n",
              "  <style>\n",
              "    .colab-df-container {\n",
              "      display:flex;\n",
              "      gap: 12px;\n",
              "    }\n",
              "\n",
              "    .colab-df-convert {\n",
              "      background-color: #E8F0FE;\n",
              "      border: none;\n",
              "      border-radius: 50%;\n",
              "      cursor: pointer;\n",
              "      display: none;\n",
              "      fill: #1967D2;\n",
              "      height: 32px;\n",
              "      padding: 0 0 0 0;\n",
              "      width: 32px;\n",
              "    }\n",
              "\n",
              "    .colab-df-convert:hover {\n",
              "      background-color: #E2EBFA;\n",
              "      box-shadow: 0px 1px 2px rgba(60, 64, 67, 0.3), 0px 1px 3px 1px rgba(60, 64, 67, 0.15);\n",
              "      fill: #174EA6;\n",
              "    }\n",
              "\n",
              "    .colab-df-buttons div {\n",
              "      margin-bottom: 4px;\n",
              "    }\n",
              "\n",
              "    [theme=dark] .colab-df-convert {\n",
              "      background-color: #3B4455;\n",
              "      fill: #D2E3FC;\n",
              "    }\n",
              "\n",
              "    [theme=dark] .colab-df-convert:hover {\n",
              "      background-color: #434B5C;\n",
              "      box-shadow: 0px 1px 3px 1px rgba(0, 0, 0, 0.15);\n",
              "      filter: drop-shadow(0px 1px 2px rgba(0, 0, 0, 0.3));\n",
              "      fill: #FFFFFF;\n",
              "    }\n",
              "  </style>\n",
              "\n",
              "    <script>\n",
              "      const buttonEl =\n",
              "        document.querySelector('#df-49213cc7-9a61-4041-8030-318a5c356580 button.colab-df-convert');\n",
              "      buttonEl.style.display =\n",
              "        google.colab.kernel.accessAllowed ? 'block' : 'none';\n",
              "\n",
              "      async function convertToInteractive(key) {\n",
              "        const element = document.querySelector('#df-49213cc7-9a61-4041-8030-318a5c356580');\n",
              "        const dataTable =\n",
              "          await google.colab.kernel.invokeFunction('convertToInteractive',\n",
              "                                                    [key], {});\n",
              "        if (!dataTable) return;\n",
              "\n",
              "        const docLinkHtml = 'Like what you see? Visit the ' +\n",
              "          '<a target=\"_blank\" href=https://colab.research.google.com/notebooks/data_table.ipynb>data table notebook</a>'\n",
              "          + ' to learn more about interactive tables.';\n",
              "        element.innerHTML = '';\n",
              "        dataTable['output_type'] = 'display_data';\n",
              "        await google.colab.output.renderOutput(dataTable, element);\n",
              "        const docLink = document.createElement('div');\n",
              "        docLink.innerHTML = docLinkHtml;\n",
              "        element.appendChild(docLink);\n",
              "      }\n",
              "    </script>\n",
              "  </div>\n",
              "\n",
              "\n",
              "<div id=\"df-8b62e531-36c5-4e85-b973-94e537d0dede\">\n",
              "  <button class=\"colab-df-quickchart\" onclick=\"quickchart('df-8b62e531-36c5-4e85-b973-94e537d0dede')\"\n",
              "            title=\"Suggest charts\"\n",
              "            style=\"display:none;\">\n",
              "\n",
              "<svg xmlns=\"http://www.w3.org/2000/svg\" height=\"24px\"viewBox=\"0 0 24 24\"\n",
              "     width=\"24px\">\n",
              "    <g>\n",
              "        <path d=\"M19 3H5c-1.1 0-2 .9-2 2v14c0 1.1.9 2 2 2h14c1.1 0 2-.9 2-2V5c0-1.1-.9-2-2-2zM9 17H7v-7h2v7zm4 0h-2V7h2v10zm4 0h-2v-4h2v4z\"/>\n",
              "    </g>\n",
              "</svg>\n",
              "  </button>\n",
              "\n",
              "<style>\n",
              "  .colab-df-quickchart {\n",
              "      --bg-color: #E8F0FE;\n",
              "      --fill-color: #1967D2;\n",
              "      --hover-bg-color: #E2EBFA;\n",
              "      --hover-fill-color: #174EA6;\n",
              "      --disabled-fill-color: #AAA;\n",
              "      --disabled-bg-color: #DDD;\n",
              "  }\n",
              "\n",
              "  [theme=dark] .colab-df-quickchart {\n",
              "      --bg-color: #3B4455;\n",
              "      --fill-color: #D2E3FC;\n",
              "      --hover-bg-color: #434B5C;\n",
              "      --hover-fill-color: #FFFFFF;\n",
              "      --disabled-bg-color: #3B4455;\n",
              "      --disabled-fill-color: #666;\n",
              "  }\n",
              "\n",
              "  .colab-df-quickchart {\n",
              "    background-color: var(--bg-color);\n",
              "    border: none;\n",
              "    border-radius: 50%;\n",
              "    cursor: pointer;\n",
              "    display: none;\n",
              "    fill: var(--fill-color);\n",
              "    height: 32px;\n",
              "    padding: 0;\n",
              "    width: 32px;\n",
              "  }\n",
              "\n",
              "  .colab-df-quickchart:hover {\n",
              "    background-color: var(--hover-bg-color);\n",
              "    box-shadow: 0 1px 2px rgba(60, 64, 67, 0.3), 0 1px 3px 1px rgba(60, 64, 67, 0.15);\n",
              "    fill: var(--button-hover-fill-color);\n",
              "  }\n",
              "\n",
              "  .colab-df-quickchart-complete:disabled,\n",
              "  .colab-df-quickchart-complete:disabled:hover {\n",
              "    background-color: var(--disabled-bg-color);\n",
              "    fill: var(--disabled-fill-color);\n",
              "    box-shadow: none;\n",
              "  }\n",
              "\n",
              "  .colab-df-spinner {\n",
              "    border: 2px solid var(--fill-color);\n",
              "    border-color: transparent;\n",
              "    border-bottom-color: var(--fill-color);\n",
              "    animation:\n",
              "      spin 1s steps(1) infinite;\n",
              "  }\n",
              "\n",
              "  @keyframes spin {\n",
              "    0% {\n",
              "      border-color: transparent;\n",
              "      border-bottom-color: var(--fill-color);\n",
              "      border-left-color: var(--fill-color);\n",
              "    }\n",
              "    20% {\n",
              "      border-color: transparent;\n",
              "      border-left-color: var(--fill-color);\n",
              "      border-top-color: var(--fill-color);\n",
              "    }\n",
              "    30% {\n",
              "      border-color: transparent;\n",
              "      border-left-color: var(--fill-color);\n",
              "      border-top-color: var(--fill-color);\n",
              "      border-right-color: var(--fill-color);\n",
              "    }\n",
              "    40% {\n",
              "      border-color: transparent;\n",
              "      border-right-color: var(--fill-color);\n",
              "      border-top-color: var(--fill-color);\n",
              "    }\n",
              "    60% {\n",
              "      border-color: transparent;\n",
              "      border-right-color: var(--fill-color);\n",
              "    }\n",
              "    80% {\n",
              "      border-color: transparent;\n",
              "      border-right-color: var(--fill-color);\n",
              "      border-bottom-color: var(--fill-color);\n",
              "    }\n",
              "    90% {\n",
              "      border-color: transparent;\n",
              "      border-bottom-color: var(--fill-color);\n",
              "    }\n",
              "  }\n",
              "</style>\n",
              "\n",
              "  <script>\n",
              "    async function quickchart(key) {\n",
              "      const quickchartButtonEl =\n",
              "        document.querySelector('#' + key + ' button');\n",
              "      quickchartButtonEl.disabled = true;  // To prevent multiple clicks.\n",
              "      quickchartButtonEl.classList.add('colab-df-spinner');\n",
              "      try {\n",
              "        const charts = await google.colab.kernel.invokeFunction(\n",
              "            'suggestCharts', [key], {});\n",
              "      } catch (error) {\n",
              "        console.error('Error during call to suggestCharts:', error);\n",
              "      }\n",
              "      quickchartButtonEl.classList.remove('colab-df-spinner');\n",
              "      quickchartButtonEl.classList.add('colab-df-quickchart-complete');\n",
              "    }\n",
              "    (() => {\n",
              "      let quickchartButtonEl =\n",
              "        document.querySelector('#df-8b62e531-36c5-4e85-b973-94e537d0dede button');\n",
              "      quickchartButtonEl.style.display =\n",
              "        google.colab.kernel.accessAllowed ? 'block' : 'none';\n",
              "    })();\n",
              "  </script>\n",
              "</div>\n",
              "\n",
              "    </div>\n",
              "  </div>\n"
            ],
            "application/vnd.google.colaboratory.intrinsic+json": {
              "type": "dataframe",
              "variable_name": "df"
            }
          },
          "metadata": {},
          "execution_count": 3
        }
      ]
    },
    {
      "cell_type": "code",
      "source": [
        "df.describe()"
      ],
      "metadata": {
        "colab": {
          "base_uri": "https://localhost:8080/",
          "height": 367
        },
        "id": "e3yG2yj_1dmA",
        "outputId": "3a4f56de-627e-4718-b34f-7316cd2a9028"
      },
      "execution_count": 4,
      "outputs": [
        {
          "output_type": "execute_result",
          "data": {
            "text/plain": [
              "       sequence_number           US     source_a     source_c     source_b  \\\n",
              "count      2000.000000  2000.000000  2000.000000  2000.000000  2000.000000   \n",
              "mean       1000.500000     0.824500     0.126500     0.056000     0.060000   \n",
              "std         577.494589     0.380489     0.332495     0.229979     0.237546   \n",
              "min           1.000000     0.000000     0.000000     0.000000     0.000000   \n",
              "25%         500.750000     1.000000     0.000000     0.000000     0.000000   \n",
              "50%        1000.500000     1.000000     0.000000     0.000000     0.000000   \n",
              "75%        1500.250000     1.000000     0.000000     0.000000     0.000000   \n",
              "max        2000.000000     1.000000     1.000000     1.000000     1.000000   \n",
              "\n",
              "          source_d     source_e    source_m     source_o     source_h  ...  \\\n",
              "count  2000.000000  2000.000000  2000.00000  2000.000000  2000.000000  ...   \n",
              "mean      0.041500     0.151000     0.01650     0.033500     0.052500  ...   \n",
              "std       0.199493     0.358138     0.12742     0.179983     0.223089  ...   \n",
              "min       0.000000     0.000000     0.00000     0.000000     0.000000  ...   \n",
              "25%       0.000000     0.000000     0.00000     0.000000     0.000000  ...   \n",
              "50%       0.000000     0.000000     0.00000     0.000000     0.000000  ...   \n",
              "75%       0.000000     0.000000     0.00000     0.000000     0.000000  ...   \n",
              "max       1.000000     1.000000     1.00000     1.000000     1.000000  ...   \n",
              "\n",
              "              Freq  last_update_days_ago  1st_update_days_ago    Web order  \\\n",
              "count  2000.000000           2000.000000          2000.000000  2000.000000   \n",
              "mean      1.417000           2155.101000          2435.601500     0.426000   \n",
              "std       1.405738           1141.302846          1077.872233     0.494617   \n",
              "min       0.000000              1.000000             1.000000     0.000000   \n",
              "25%       1.000000           1133.000000          1671.250000     0.000000   \n",
              "50%       1.000000           2280.000000          2721.000000     0.000000   \n",
              "75%       2.000000           3139.250000          3353.000000     1.000000   \n",
              "max      15.000000           4188.000000          4188.000000     1.000000   \n",
              "\n",
              "       Gender=male  Address_is_res     Purchase    Spending  Unnamed: 26  \\\n",
              "count  2000.000000     2000.000000  2000.000000  2000.00000          0.0   \n",
              "mean      0.524500        0.221000     0.500000   102.62500          NaN   \n",
              "std       0.499524        0.415024     0.500125   186.78261          NaN   \n",
              "min       0.000000        0.000000     0.000000     0.00000          NaN   \n",
              "25%       0.000000        0.000000     0.000000     0.00000          NaN   \n",
              "50%       1.000000        0.000000     0.500000     2.00000          NaN   \n",
              "75%       1.000000        0.000000     1.000000   153.00000          NaN   \n",
              "max       1.000000        1.000000     1.000000  1500.00000          NaN   \n",
              "\n",
              "       Unnamed: 27  \n",
              "count          0.0  \n",
              "mean           NaN  \n",
              "std            NaN  \n",
              "min            NaN  \n",
              "25%            NaN  \n",
              "50%            NaN  \n",
              "75%            NaN  \n",
              "max            NaN  \n",
              "\n",
              "[8 rows x 27 columns]"
            ],
            "text/html": [
              "\n",
              "  <div id=\"df-1bf90e0e-d033-4176-ae61-309bbd7c9a8e\" class=\"colab-df-container\">\n",
              "    <div>\n",
              "<style scoped>\n",
              "    .dataframe tbody tr th:only-of-type {\n",
              "        vertical-align: middle;\n",
              "    }\n",
              "\n",
              "    .dataframe tbody tr th {\n",
              "        vertical-align: top;\n",
              "    }\n",
              "\n",
              "    .dataframe thead th {\n",
              "        text-align: right;\n",
              "    }\n",
              "</style>\n",
              "<table border=\"1\" class=\"dataframe\">\n",
              "  <thead>\n",
              "    <tr style=\"text-align: right;\">\n",
              "      <th></th>\n",
              "      <th>sequence_number</th>\n",
              "      <th>US</th>\n",
              "      <th>source_a</th>\n",
              "      <th>source_c</th>\n",
              "      <th>source_b</th>\n",
              "      <th>source_d</th>\n",
              "      <th>source_e</th>\n",
              "      <th>source_m</th>\n",
              "      <th>source_o</th>\n",
              "      <th>source_h</th>\n",
              "      <th>...</th>\n",
              "      <th>Freq</th>\n",
              "      <th>last_update_days_ago</th>\n",
              "      <th>1st_update_days_ago</th>\n",
              "      <th>Web order</th>\n",
              "      <th>Gender=male</th>\n",
              "      <th>Address_is_res</th>\n",
              "      <th>Purchase</th>\n",
              "      <th>Spending</th>\n",
              "      <th>Unnamed: 26</th>\n",
              "      <th>Unnamed: 27</th>\n",
              "    </tr>\n",
              "  </thead>\n",
              "  <tbody>\n",
              "    <tr>\n",
              "      <th>count</th>\n",
              "      <td>2000.000000</td>\n",
              "      <td>2000.000000</td>\n",
              "      <td>2000.000000</td>\n",
              "      <td>2000.000000</td>\n",
              "      <td>2000.000000</td>\n",
              "      <td>2000.000000</td>\n",
              "      <td>2000.000000</td>\n",
              "      <td>2000.00000</td>\n",
              "      <td>2000.000000</td>\n",
              "      <td>2000.000000</td>\n",
              "      <td>...</td>\n",
              "      <td>2000.000000</td>\n",
              "      <td>2000.000000</td>\n",
              "      <td>2000.000000</td>\n",
              "      <td>2000.000000</td>\n",
              "      <td>2000.000000</td>\n",
              "      <td>2000.000000</td>\n",
              "      <td>2000.000000</td>\n",
              "      <td>2000.00000</td>\n",
              "      <td>0.0</td>\n",
              "      <td>0.0</td>\n",
              "    </tr>\n",
              "    <tr>\n",
              "      <th>mean</th>\n",
              "      <td>1000.500000</td>\n",
              "      <td>0.824500</td>\n",
              "      <td>0.126500</td>\n",
              "      <td>0.056000</td>\n",
              "      <td>0.060000</td>\n",
              "      <td>0.041500</td>\n",
              "      <td>0.151000</td>\n",
              "      <td>0.01650</td>\n",
              "      <td>0.033500</td>\n",
              "      <td>0.052500</td>\n",
              "      <td>...</td>\n",
              "      <td>1.417000</td>\n",
              "      <td>2155.101000</td>\n",
              "      <td>2435.601500</td>\n",
              "      <td>0.426000</td>\n",
              "      <td>0.524500</td>\n",
              "      <td>0.221000</td>\n",
              "      <td>0.500000</td>\n",
              "      <td>102.62500</td>\n",
              "      <td>NaN</td>\n",
              "      <td>NaN</td>\n",
              "    </tr>\n",
              "    <tr>\n",
              "      <th>std</th>\n",
              "      <td>577.494589</td>\n",
              "      <td>0.380489</td>\n",
              "      <td>0.332495</td>\n",
              "      <td>0.229979</td>\n",
              "      <td>0.237546</td>\n",
              "      <td>0.199493</td>\n",
              "      <td>0.358138</td>\n",
              "      <td>0.12742</td>\n",
              "      <td>0.179983</td>\n",
              "      <td>0.223089</td>\n",
              "      <td>...</td>\n",
              "      <td>1.405738</td>\n",
              "      <td>1141.302846</td>\n",
              "      <td>1077.872233</td>\n",
              "      <td>0.494617</td>\n",
              "      <td>0.499524</td>\n",
              "      <td>0.415024</td>\n",
              "      <td>0.500125</td>\n",
              "      <td>186.78261</td>\n",
              "      <td>NaN</td>\n",
              "      <td>NaN</td>\n",
              "    </tr>\n",
              "    <tr>\n",
              "      <th>min</th>\n",
              "      <td>1.000000</td>\n",
              "      <td>0.000000</td>\n",
              "      <td>0.000000</td>\n",
              "      <td>0.000000</td>\n",
              "      <td>0.000000</td>\n",
              "      <td>0.000000</td>\n",
              "      <td>0.000000</td>\n",
              "      <td>0.00000</td>\n",
              "      <td>0.000000</td>\n",
              "      <td>0.000000</td>\n",
              "      <td>...</td>\n",
              "      <td>0.000000</td>\n",
              "      <td>1.000000</td>\n",
              "      <td>1.000000</td>\n",
              "      <td>0.000000</td>\n",
              "      <td>0.000000</td>\n",
              "      <td>0.000000</td>\n",
              "      <td>0.000000</td>\n",
              "      <td>0.00000</td>\n",
              "      <td>NaN</td>\n",
              "      <td>NaN</td>\n",
              "    </tr>\n",
              "    <tr>\n",
              "      <th>25%</th>\n",
              "      <td>500.750000</td>\n",
              "      <td>1.000000</td>\n",
              "      <td>0.000000</td>\n",
              "      <td>0.000000</td>\n",
              "      <td>0.000000</td>\n",
              "      <td>0.000000</td>\n",
              "      <td>0.000000</td>\n",
              "      <td>0.00000</td>\n",
              "      <td>0.000000</td>\n",
              "      <td>0.000000</td>\n",
              "      <td>...</td>\n",
              "      <td>1.000000</td>\n",
              "      <td>1133.000000</td>\n",
              "      <td>1671.250000</td>\n",
              "      <td>0.000000</td>\n",
              "      <td>0.000000</td>\n",
              "      <td>0.000000</td>\n",
              "      <td>0.000000</td>\n",
              "      <td>0.00000</td>\n",
              "      <td>NaN</td>\n",
              "      <td>NaN</td>\n",
              "    </tr>\n",
              "    <tr>\n",
              "      <th>50%</th>\n",
              "      <td>1000.500000</td>\n",
              "      <td>1.000000</td>\n",
              "      <td>0.000000</td>\n",
              "      <td>0.000000</td>\n",
              "      <td>0.000000</td>\n",
              "      <td>0.000000</td>\n",
              "      <td>0.000000</td>\n",
              "      <td>0.00000</td>\n",
              "      <td>0.000000</td>\n",
              "      <td>0.000000</td>\n",
              "      <td>...</td>\n",
              "      <td>1.000000</td>\n",
              "      <td>2280.000000</td>\n",
              "      <td>2721.000000</td>\n",
              "      <td>0.000000</td>\n",
              "      <td>1.000000</td>\n",
              "      <td>0.000000</td>\n",
              "      <td>0.500000</td>\n",
              "      <td>2.00000</td>\n",
              "      <td>NaN</td>\n",
              "      <td>NaN</td>\n",
              "    </tr>\n",
              "    <tr>\n",
              "      <th>75%</th>\n",
              "      <td>1500.250000</td>\n",
              "      <td>1.000000</td>\n",
              "      <td>0.000000</td>\n",
              "      <td>0.000000</td>\n",
              "      <td>0.000000</td>\n",
              "      <td>0.000000</td>\n",
              "      <td>0.000000</td>\n",
              "      <td>0.00000</td>\n",
              "      <td>0.000000</td>\n",
              "      <td>0.000000</td>\n",
              "      <td>...</td>\n",
              "      <td>2.000000</td>\n",
              "      <td>3139.250000</td>\n",
              "      <td>3353.000000</td>\n",
              "      <td>1.000000</td>\n",
              "      <td>1.000000</td>\n",
              "      <td>0.000000</td>\n",
              "      <td>1.000000</td>\n",
              "      <td>153.00000</td>\n",
              "      <td>NaN</td>\n",
              "      <td>NaN</td>\n",
              "    </tr>\n",
              "    <tr>\n",
              "      <th>max</th>\n",
              "      <td>2000.000000</td>\n",
              "      <td>1.000000</td>\n",
              "      <td>1.000000</td>\n",
              "      <td>1.000000</td>\n",
              "      <td>1.000000</td>\n",
              "      <td>1.000000</td>\n",
              "      <td>1.000000</td>\n",
              "      <td>1.00000</td>\n",
              "      <td>1.000000</td>\n",
              "      <td>1.000000</td>\n",
              "      <td>...</td>\n",
              "      <td>15.000000</td>\n",
              "      <td>4188.000000</td>\n",
              "      <td>4188.000000</td>\n",
              "      <td>1.000000</td>\n",
              "      <td>1.000000</td>\n",
              "      <td>1.000000</td>\n",
              "      <td>1.000000</td>\n",
              "      <td>1500.00000</td>\n",
              "      <td>NaN</td>\n",
              "      <td>NaN</td>\n",
              "    </tr>\n",
              "  </tbody>\n",
              "</table>\n",
              "<p>8 rows × 27 columns</p>\n",
              "</div>\n",
              "    <div class=\"colab-df-buttons\">\n",
              "\n",
              "  <div class=\"colab-df-container\">\n",
              "    <button class=\"colab-df-convert\" onclick=\"convertToInteractive('df-1bf90e0e-d033-4176-ae61-309bbd7c9a8e')\"\n",
              "            title=\"Convert this dataframe to an interactive table.\"\n",
              "            style=\"display:none;\">\n",
              "\n",
              "  <svg xmlns=\"http://www.w3.org/2000/svg\" height=\"24px\" viewBox=\"0 -960 960 960\">\n",
              "    <path d=\"M120-120v-720h720v720H120Zm60-500h600v-160H180v160Zm220 220h160v-160H400v160Zm0 220h160v-160H400v160ZM180-400h160v-160H180v160Zm440 0h160v-160H620v160ZM180-180h160v-160H180v160Zm440 0h160v-160H620v160Z\"/>\n",
              "  </svg>\n",
              "    </button>\n",
              "\n",
              "  <style>\n",
              "    .colab-df-container {\n",
              "      display:flex;\n",
              "      gap: 12px;\n",
              "    }\n",
              "\n",
              "    .colab-df-convert {\n",
              "      background-color: #E8F0FE;\n",
              "      border: none;\n",
              "      border-radius: 50%;\n",
              "      cursor: pointer;\n",
              "      display: none;\n",
              "      fill: #1967D2;\n",
              "      height: 32px;\n",
              "      padding: 0 0 0 0;\n",
              "      width: 32px;\n",
              "    }\n",
              "\n",
              "    .colab-df-convert:hover {\n",
              "      background-color: #E2EBFA;\n",
              "      box-shadow: 0px 1px 2px rgba(60, 64, 67, 0.3), 0px 1px 3px 1px rgba(60, 64, 67, 0.15);\n",
              "      fill: #174EA6;\n",
              "    }\n",
              "\n",
              "    .colab-df-buttons div {\n",
              "      margin-bottom: 4px;\n",
              "    }\n",
              "\n",
              "    [theme=dark] .colab-df-convert {\n",
              "      background-color: #3B4455;\n",
              "      fill: #D2E3FC;\n",
              "    }\n",
              "\n",
              "    [theme=dark] .colab-df-convert:hover {\n",
              "      background-color: #434B5C;\n",
              "      box-shadow: 0px 1px 3px 1px rgba(0, 0, 0, 0.15);\n",
              "      filter: drop-shadow(0px 1px 2px rgba(0, 0, 0, 0.3));\n",
              "      fill: #FFFFFF;\n",
              "    }\n",
              "  </style>\n",
              "\n",
              "    <script>\n",
              "      const buttonEl =\n",
              "        document.querySelector('#df-1bf90e0e-d033-4176-ae61-309bbd7c9a8e button.colab-df-convert');\n",
              "      buttonEl.style.display =\n",
              "        google.colab.kernel.accessAllowed ? 'block' : 'none';\n",
              "\n",
              "      async function convertToInteractive(key) {\n",
              "        const element = document.querySelector('#df-1bf90e0e-d033-4176-ae61-309bbd7c9a8e');\n",
              "        const dataTable =\n",
              "          await google.colab.kernel.invokeFunction('convertToInteractive',\n",
              "                                                    [key], {});\n",
              "        if (!dataTable) return;\n",
              "\n",
              "        const docLinkHtml = 'Like what you see? Visit the ' +\n",
              "          '<a target=\"_blank\" href=https://colab.research.google.com/notebooks/data_table.ipynb>data table notebook</a>'\n",
              "          + ' to learn more about interactive tables.';\n",
              "        element.innerHTML = '';\n",
              "        dataTable['output_type'] = 'display_data';\n",
              "        await google.colab.output.renderOutput(dataTable, element);\n",
              "        const docLink = document.createElement('div');\n",
              "        docLink.innerHTML = docLinkHtml;\n",
              "        element.appendChild(docLink);\n",
              "      }\n",
              "    </script>\n",
              "  </div>\n",
              "\n",
              "\n",
              "<div id=\"df-1313f758-5b2a-45f9-aef0-8dcd98c27841\">\n",
              "  <button class=\"colab-df-quickchart\" onclick=\"quickchart('df-1313f758-5b2a-45f9-aef0-8dcd98c27841')\"\n",
              "            title=\"Suggest charts\"\n",
              "            style=\"display:none;\">\n",
              "\n",
              "<svg xmlns=\"http://www.w3.org/2000/svg\" height=\"24px\"viewBox=\"0 0 24 24\"\n",
              "     width=\"24px\">\n",
              "    <g>\n",
              "        <path d=\"M19 3H5c-1.1 0-2 .9-2 2v14c0 1.1.9 2 2 2h14c1.1 0 2-.9 2-2V5c0-1.1-.9-2-2-2zM9 17H7v-7h2v7zm4 0h-2V7h2v10zm4 0h-2v-4h2v4z\"/>\n",
              "    </g>\n",
              "</svg>\n",
              "  </button>\n",
              "\n",
              "<style>\n",
              "  .colab-df-quickchart {\n",
              "      --bg-color: #E8F0FE;\n",
              "      --fill-color: #1967D2;\n",
              "      --hover-bg-color: #E2EBFA;\n",
              "      --hover-fill-color: #174EA6;\n",
              "      --disabled-fill-color: #AAA;\n",
              "      --disabled-bg-color: #DDD;\n",
              "  }\n",
              "\n",
              "  [theme=dark] .colab-df-quickchart {\n",
              "      --bg-color: #3B4455;\n",
              "      --fill-color: #D2E3FC;\n",
              "      --hover-bg-color: #434B5C;\n",
              "      --hover-fill-color: #FFFFFF;\n",
              "      --disabled-bg-color: #3B4455;\n",
              "      --disabled-fill-color: #666;\n",
              "  }\n",
              "\n",
              "  .colab-df-quickchart {\n",
              "    background-color: var(--bg-color);\n",
              "    border: none;\n",
              "    border-radius: 50%;\n",
              "    cursor: pointer;\n",
              "    display: none;\n",
              "    fill: var(--fill-color);\n",
              "    height: 32px;\n",
              "    padding: 0;\n",
              "    width: 32px;\n",
              "  }\n",
              "\n",
              "  .colab-df-quickchart:hover {\n",
              "    background-color: var(--hover-bg-color);\n",
              "    box-shadow: 0 1px 2px rgba(60, 64, 67, 0.3), 0 1px 3px 1px rgba(60, 64, 67, 0.15);\n",
              "    fill: var(--button-hover-fill-color);\n",
              "  }\n",
              "\n",
              "  .colab-df-quickchart-complete:disabled,\n",
              "  .colab-df-quickchart-complete:disabled:hover {\n",
              "    background-color: var(--disabled-bg-color);\n",
              "    fill: var(--disabled-fill-color);\n",
              "    box-shadow: none;\n",
              "  }\n",
              "\n",
              "  .colab-df-spinner {\n",
              "    border: 2px solid var(--fill-color);\n",
              "    border-color: transparent;\n",
              "    border-bottom-color: var(--fill-color);\n",
              "    animation:\n",
              "      spin 1s steps(1) infinite;\n",
              "  }\n",
              "\n",
              "  @keyframes spin {\n",
              "    0% {\n",
              "      border-color: transparent;\n",
              "      border-bottom-color: var(--fill-color);\n",
              "      border-left-color: var(--fill-color);\n",
              "    }\n",
              "    20% {\n",
              "      border-color: transparent;\n",
              "      border-left-color: var(--fill-color);\n",
              "      border-top-color: var(--fill-color);\n",
              "    }\n",
              "    30% {\n",
              "      border-color: transparent;\n",
              "      border-left-color: var(--fill-color);\n",
              "      border-top-color: var(--fill-color);\n",
              "      border-right-color: var(--fill-color);\n",
              "    }\n",
              "    40% {\n",
              "      border-color: transparent;\n",
              "      border-right-color: var(--fill-color);\n",
              "      border-top-color: var(--fill-color);\n",
              "    }\n",
              "    60% {\n",
              "      border-color: transparent;\n",
              "      border-right-color: var(--fill-color);\n",
              "    }\n",
              "    80% {\n",
              "      border-color: transparent;\n",
              "      border-right-color: var(--fill-color);\n",
              "      border-bottom-color: var(--fill-color);\n",
              "    }\n",
              "    90% {\n",
              "      border-color: transparent;\n",
              "      border-bottom-color: var(--fill-color);\n",
              "    }\n",
              "  }\n",
              "</style>\n",
              "\n",
              "  <script>\n",
              "    async function quickchart(key) {\n",
              "      const quickchartButtonEl =\n",
              "        document.querySelector('#' + key + ' button');\n",
              "      quickchartButtonEl.disabled = true;  // To prevent multiple clicks.\n",
              "      quickchartButtonEl.classList.add('colab-df-spinner');\n",
              "      try {\n",
              "        const charts = await google.colab.kernel.invokeFunction(\n",
              "            'suggestCharts', [key], {});\n",
              "      } catch (error) {\n",
              "        console.error('Error during call to suggestCharts:', error);\n",
              "      }\n",
              "      quickchartButtonEl.classList.remove('colab-df-spinner');\n",
              "      quickchartButtonEl.classList.add('colab-df-quickchart-complete');\n",
              "    }\n",
              "    (() => {\n",
              "      let quickchartButtonEl =\n",
              "        document.querySelector('#df-1313f758-5b2a-45f9-aef0-8dcd98c27841 button');\n",
              "      quickchartButtonEl.style.display =\n",
              "        google.colab.kernel.accessAllowed ? 'block' : 'none';\n",
              "    })();\n",
              "  </script>\n",
              "</div>\n",
              "\n",
              "    </div>\n",
              "  </div>\n"
            ],
            "application/vnd.google.colaboratory.intrinsic+json": {
              "type": "dataframe"
            }
          },
          "metadata": {},
          "execution_count": 4
        }
      ]
    },
    {
      "cell_type": "code",
      "source": [
        "df.isnull().sum()"
      ],
      "metadata": {
        "colab": {
          "base_uri": "https://localhost:8080/"
        },
        "id": "r0oZ8DGV1e3a",
        "outputId": "a2c7ceac-d3c5-400b-dd0e-ff1170011fc1"
      },
      "execution_count": 5,
      "outputs": [
        {
          "output_type": "execute_result",
          "data": {
            "text/plain": [
              "sequence_number            0\n",
              "US                         0\n",
              "source_a                   0\n",
              "source_c                   0\n",
              "source_b                   0\n",
              "source_d                   0\n",
              "source_e                   0\n",
              "source_m                   0\n",
              "source_o                   0\n",
              "source_h                   0\n",
              "source_r                   0\n",
              "source_s                   0\n",
              "source_t                   0\n",
              "source_u                   0\n",
              "source_p                   0\n",
              "source_x                   0\n",
              "source_w                   0\n",
              "Freq                       0\n",
              "last_update_days_ago       0\n",
              "1st_update_days_ago        0\n",
              "Web order                  0\n",
              "Gender=male                0\n",
              "Address_is_res             0\n",
              "Purchase                   0\n",
              "Spending                   0\n",
              "Partition                  0\n",
              "Unnamed: 26             2000\n",
              "Unnamed: 27             2000\n",
              "dtype: int64"
            ]
          },
          "metadata": {},
          "execution_count": 5
        }
      ]
    },
    {
      "cell_type": "markdown",
      "source": [
        "ทำการกำจัด column ที่ชื่อ Unnamed: 26 กับ Unnamed: 27 ออก"
      ],
      "metadata": {
        "id": "fBv9KWdr2AjN"
      }
    },
    {
      "cell_type": "code",
      "source": [
        "df = df.loc[:, ~df.columns.str.contains('^Unnamed')]"
      ],
      "metadata": {
        "id": "J97yK2aL4aP-"
      },
      "execution_count": 6,
      "outputs": []
    },
    {
      "cell_type": "code",
      "source": [
        "df.columns"
      ],
      "metadata": {
        "colab": {
          "base_uri": "https://localhost:8080/"
        },
        "id": "s2pu9uvo4dLL",
        "outputId": "9a0ab5b7-0e30-4d5e-9a2c-f404443352bb"
      },
      "execution_count": 7,
      "outputs": [
        {
          "output_type": "execute_result",
          "data": {
            "text/plain": [
              "Index(['sequence_number', 'US', 'source_a', 'source_c', 'source_b', 'source_d',\n",
              "       'source_e', 'source_m', 'source_o', 'source_h', 'source_r', 'source_s',\n",
              "       'source_t', 'source_u', 'source_p', 'source_x', 'source_w', 'Freq',\n",
              "       'last_update_days_ago', '1st_update_days_ago', 'Web order',\n",
              "       'Gender=male', 'Address_is_res', 'Purchase', 'Spending', 'Partition'],\n",
              "      dtype='object')"
            ]
          },
          "metadata": {},
          "execution_count": 7
        }
      ]
    },
    {
      "cell_type": "code",
      "source": [
        "df.isnull().sum()"
      ],
      "metadata": {
        "colab": {
          "base_uri": "https://localhost:8080/"
        },
        "id": "wNOqQmtt4f2U",
        "outputId": "fd7fc884-7a0d-4bc0-9c89-37c9e41b42d2"
      },
      "execution_count": 8,
      "outputs": [
        {
          "output_type": "execute_result",
          "data": {
            "text/plain": [
              "sequence_number         0\n",
              "US                      0\n",
              "source_a                0\n",
              "source_c                0\n",
              "source_b                0\n",
              "source_d                0\n",
              "source_e                0\n",
              "source_m                0\n",
              "source_o                0\n",
              "source_h                0\n",
              "source_r                0\n",
              "source_s                0\n",
              "source_t                0\n",
              "source_u                0\n",
              "source_p                0\n",
              "source_x                0\n",
              "source_w                0\n",
              "Freq                    0\n",
              "last_update_days_ago    0\n",
              "1st_update_days_ago     0\n",
              "Web order               0\n",
              "Gender=male             0\n",
              "Address_is_res          0\n",
              "Purchase                0\n",
              "Spending                0\n",
              "Partition               0\n",
              "dtype: int64"
            ]
          },
          "metadata": {},
          "execution_count": 8
        }
      ]
    },
    {
      "cell_type": "code",
      "source": [
        "import matplotlib.pyplot as plt\n",
        "df.hist(bins=100, figsize=(20,15))\n",
        "plt.show()"
      ],
      "metadata": {
        "colab": {
          "base_uri": "https://localhost:8080/",
          "height": 1000
        },
        "id": "JihxHzRk98sK",
        "outputId": "6ca5e5c3-ecb0-49df-f64b-f43122ee3bfa"
      },
      "execution_count": 9,
      "outputs": [
        {
          "output_type": "display_data",
          "data": {
            "text/plain": [
              "<Figure size 2000x1500 with 25 Axes>"
            ],
            "image/png": "[encoded data removed]"
          },
          "metadata": {}
        }
      ]
    },
    {
      "cell_type": "code",
      "source": [
        "df.shape"
      ],
      "metadata": {
        "colab": {
          "base_uri": "https://localhost:8080/"
        },
        "id": "sgVCBbYaDoed",
        "outputId": "07880bdd-4cb0-4d33-ae10-95450c17668a"
      },
      "execution_count": 10,
      "outputs": [
        {
          "output_type": "execute_result",
          "data": {
            "text/plain": [
              "(2000, 26)"
            ]
          },
          "metadata": {},
          "execution_count": 10
        }
      ]
    },
    {
      "cell_type": "markdown",
      "source": [
        "ทำการวิเคราะห์เฉพาะค่าที่มี Purchased = 1 และจะกำจัดช่องที่เหลือออกให้หมด"
      ],
      "metadata": {
        "id": "NjLmfpgBA6Vx"
      }
    },
    {
      "cell_type": "code",
      "source": [
        "df = df[df[\"Purchase\"] == 1]"
      ],
      "metadata": {
        "id": "_9COlecMA2gW"
      },
      "execution_count": 11,
      "outputs": []
    },
    {
      "cell_type": "code",
      "source": [
        "df.shape"
      ],
      "metadata": {
        "colab": {
          "base_uri": "https://localhost:8080/"
        },
        "id": "Aim1Wvj1Dmcw",
        "outputId": "07ea98b5-3f15-435d-87a5-7d4d1e987e3f"
      },
      "execution_count": 12,
      "outputs": [
        {
          "output_type": "execute_result",
          "data": {
            "text/plain": [
              "(1000, 26)"
            ]
          },
          "metadata": {},
          "execution_count": 12
        }
      ]
    },
    {
      "cell_type": "markdown",
      "source": [
        "# Exploration"
      ],
      "metadata": {
        "id": "0yv-jT6OD2qE"
      }
    },
    {
      "cell_type": "markdown",
      "source": [
        "Explore the relationship between Spending and each of the two continuous variables by creating two scatters plots (SPENDING vs. FREQ and SPENDING vs. LAST_UPDATE). Does there seem to be a linear relationship there?  \n",
        "ทำ scatter plot ระหว่าง SPENDING vs. FREQ และ SPENDING vs. LAST_UPDATE"
      ],
      "metadata": {
        "id": "585Q0Qf-D6Hw"
      }
    },
    {
      "cell_type": "code",
      "source": [
        "plt.scatter(df['Spending'], df['Freq'])\n",
        "plt.xlabel('Spending')\n",
        "plt.ylabel('Freq')\n",
        "plt.title('Scatter plot of Spending vs Freq')\n",
        "plt.show()"
      ],
      "metadata": {
        "id": "QtfPIumBEFIV",
        "colab": {
          "base_uri": "https://localhost:8080/",
          "height": 472
        },
        "outputId": "993e9105-fe62-49fe-cf03-bf2a5b0740a8"
      },
      "execution_count": 13,
      "outputs": [
        {
          "output_type": "display_data",
          "data": {
            "text/plain": [
              "<Figure size 640x480 with 1 Axes>"
            ],
            "image/png": "[encoded data removed]"
          },
          "metadata": {}
        }
      ]
    },
    {
      "cell_type": "code",
      "source": [
        "plt.scatter(df['Spending'], df['last_update_days_ago'])\n",
        "plt.xlabel('Spending')\n",
        "plt.ylabel('last_update_days_ago')\n",
        "plt.title('Scatter plot of Spending vs last_update_days_ago')\n",
        "plt.show()"
      ],
      "metadata": {
        "colab": {
          "base_uri": "https://localhost:8080/",
          "height": 472
        },
        "id": "z7pAdCcXT8Tl",
        "outputId": "a49a0f88-cc31-42ad-d9f0-b3259f316361"
      },
      "execution_count": 14,
      "outputs": [
        {
          "output_type": "display_data",
          "data": {
            "text/plain": [
              "<Figure size 640x480 with 1 Axes>"
            ],
            "image/png": "[encoded data removed]"
          },
          "metadata": {}
        }
      ]
    },
    {
      "cell_type": "markdown",
      "source": [
        "# Fitting first model\n"
      ],
      "metadata": {
        "id": "BRngsqHZLmML"
      }
    },
    {
      "cell_type": "markdown",
      "source": [
        "## Fit a predictive model for SPENDING using only the following predictors: Freq, Last_update, Web_order, Gender, US, Adress_is_res [Use all these features]"
      ],
      "metadata": {
        "id": "PAXI9hoTL6rl"
      }
    },
    {
      "cell_type": "markdown",
      "source": [
        "### 1) Partition the 1000 records into training (Partition=t) & testsets (Partition=v)"
      ],
      "metadata": {
        "id": "_EusxvpUOyik"
      }
    },
    {
      "cell_type": "code",
      "source": [
        "df_t = df[df[\"Partition\"] == 't']\n",
        "df_v = df[df[\"Partition\"] == 'v']"
      ],
      "metadata": {
        "id": "-MfXpBsiO18z"
      },
      "execution_count": 15,
      "outputs": []
    },
    {
      "cell_type": "code",
      "source": [
        "predictors = [\"Freq\", \"last_update_days_ago\", \"Web order\", \"Gender=male\", \"US\", \"Address_is_res\"]"
      ],
      "metadata": {
        "id": "0R2VtH4wO4kW"
      },
      "execution_count": 16,
      "outputs": []
    },
    {
      "cell_type": "markdown",
      "source": [
        "### 2) Run a multiple regression model for SPENDING with the 6 predictors."
      ],
      "metadata": {
        "id": "HndwoObyO94r"
      }
    },
    {
      "cell_type": "code",
      "source": [
        "X_train = df_t[predictors]\n",
        "X_test = df_v[predictors]\n",
        "y_train = df_t[[\"Spending\"]]\n",
        "y_test = df_v[[\"Spending\"]]"
      ],
      "metadata": {
        "id": "wo8NlOaoiDTU"
      },
      "execution_count": 17,
      "outputs": []
    },
    {
      "cell_type": "code",
      "source": [
        "from sklearn.preprocessing import StandardScaler\n",
        "scaler = StandardScaler().fit(X_train)\n",
        "X_train_scaled = scaler.transform(X_train)\n",
        "X_test_scaled = scaler.transform(X_test)"
      ],
      "metadata": {
        "id": "qYPweo0yPEue"
      },
      "execution_count": 18,
      "outputs": []
    },
    {
      "cell_type": "code",
      "source": [
        "from sklearn.metrics import mean_squared_error\n",
        "from sklearn.linear_model import LinearRegression\n",
        "model = LinearRegression()\n",
        "model.fit(X_train_scaled,y_train)\n",
        "coef = model.coef_[0]\n",
        "print(model.coef_)\n",
        "print(model.intercept_)\n",
        "print(\"Features :\", X_train.columns.tolist())\n",
        "print(\"Coefficients:\", model.coef_)\n",
        "print(\"Intercept :\", model.intercept_)\n",
        "print(f\"Regression equation : pred_Spending = {model.intercept_[0]:.2f} + {coef[0]:.2f}*Freq + {coef[1]:.2f}*last_update_days_ago + {coef[2]:.2f}*Web_order + {coef[3]:.2f}*Gender=male + {coef[4]:.2f}*US + {coef[5]:.2f}*Address_is_res\")"
      ],
      "metadata": {
        "colab": {
          "base_uri": "https://localhost:8080/"
        },
        "id": "wXSlBVgMPGqs",
        "outputId": "bdf76ea8-e0b2-428d-b509-5e8e61bcbce0"
      },
      "execution_count": 19,
      "outputs": [
        {
          "output_type": "stream",
          "name": "stdout",
          "text": [
            "[[155.95020921 -28.21799529   0.76905178   2.15133686  16.33333742\n",
            "  -38.55799405]]\n",
            "[207.78364116]\n",
            "Features : ['Freq', 'last_update_days_ago', 'Web order', 'Gender=male', 'US', 'Address_is_res']\n",
            "Coefficients: [[155.95020921 -28.21799529   0.76905178   2.15133686  16.33333742\n",
            "  -38.55799405]]\n",
            "Intercept : [207.78364116]\n",
            "Regression equation : pred_Spending = 207.78 + 155.95*Freq + -28.22*last_update_days_ago + 0.77*Web_order + 2.15*Gender=male + 16.33*US + -38.56*Address_is_res\n"
          ]
        }
      ]
    },
    {
      "cell_type": "markdown",
      "source": [
        "ได้สมการ Regression คือ  \n",
        "pred_Spending = 207.78 + 155.95\\*Freq + -28.22\\*last_update_days_ago + 0.77\\*Web_order + 2.15\\*Gender=male + 16.33\\*US + -38.56\\*Address_is_res"
      ],
      "metadata": {
        "id": "lnOCtV2tVu8Z"
      }
    },
    {
      "cell_type": "markdown",
      "source": [
        "หาค่า RMSE"
      ],
      "metadata": {
        "id": "4NUwodWdQJbo"
      }
    },
    {
      "cell_type": "code",
      "source": [
        "import math\n",
        "y_pred = model.predict(X_test_scaled)\n",
        "mse = mean_squared_error(y_test, y_pred)\n",
        "rmse = math.sqrt(mse)\n",
        "print(\"RMSE = \", rmse)"
      ],
      "metadata": {
        "colab": {
          "base_uri": "https://localhost:8080/"
        },
        "id": "afJSoVLwQLkR",
        "outputId": "8d8e9cd9-751d-4287-f14e-b18a20a5ca25"
      },
      "execution_count": 20,
      "outputs": [
        {
          "output_type": "stream",
          "name": "stdout",
          "text": [
            "RMSE =  164.49915447481138\n"
          ]
        }
      ]
    },
    {
      "cell_type": "markdown",
      "source": [
        "### 3) Based on the above regression equation and P-value of each predictor, identify the characteristics of high spending buyers?"
      ],
      "metadata": {
        "id": "UKSrVqGuPsRC"
      }
    },
    {
      "cell_type": "code",
      "source": [
        "import statsmodels.api as sm\n",
        "X_train_scaled = sm.add_constant(X_train_scaled)\n",
        "model_sm = sm.OLS(y_train, X_train_scaled).fit()\n",
        "print(model_sm.summary())"
      ],
      "metadata": {
        "colab": {
          "base_uri": "https://localhost:8080/"
        },
        "id": "RYmrwTyWpPqM",
        "outputId": "367d6f72-b69f-40a1-90cb-8e1578cefa45"
      },
      "execution_count": 21,
      "outputs": [
        {
          "output_type": "stream",
          "name": "stdout",
          "text": [
            "                            OLS Regression Results                            \n",
            "==============================================================================\n",
            "Dep. Variable:               Spending   R-squared:                       0.504\n",
            "Model:                            OLS   Adj. R-squared:                  0.496\n",
            "Method:                 Least Squares   F-statistic:                     63.04\n",
            "Date:                Sat, 27 Jul 2024   Prob (F-statistic):           9.69e-54\n",
            "Time:                        16:54:47   Log-Likelihood:                -2475.1\n",
            "No. Observations:                 379   AIC:                             4964.\n",
            "Df Residuals:                     372   BIC:                             4992.\n",
            "Df Model:                           6                                         \n",
            "Covariance Type:            nonrobust                                         \n",
            "==============================================================================\n",
            "                 coef    std err          t      P>|t|      [0.025      0.975]\n",
            "------------------------------------------------------------------------------\n",
            "const        207.7836      8.605     24.148      0.000     190.864     224.703\n",
            "x1           155.9502      9.364     16.654      0.000     137.536     174.364\n",
            "x2           -28.2180      9.323     -3.027      0.003     -46.550      -9.886\n",
            "x3             0.7691      8.662      0.089      0.929     -16.264      17.802\n",
            "x4             2.1513      8.617      0.250      0.803     -14.793      19.096\n",
            "x5            16.3333      8.707      1.876      0.061      -0.788      33.455\n",
            "x6           -38.5580      8.708     -4.428      0.000     -55.680     -21.436\n",
            "==============================================================================\n",
            "Omnibus:                      268.381   Durbin-Watson:                   2.019\n",
            "Prob(Omnibus):                  0.000   Jarque-Bera (JB):             3914.684\n",
            "Skew:                           2.831   Prob(JB):                         0.00\n",
            "Kurtosis:                      17.691   Cond. No.                         1.55\n",
            "==============================================================================\n",
            "\n",
            "Notes:\n",
            "[1] Standard Errors assume that the covariance matrix of the errors is correctly specified.\n"
          ]
        }
      ]
    },
    {
      "cell_type": "markdown",
      "source": [
        "พบว่า high spending buyers จะเป็นคนที่ มีจำนวน transaction ปีที่แล้วมาก (Freq) อัพเดทครั้งล่าสุดเมื่อไม่นานมานี้ (last_update_days_ago) มีการซื้อสินค้าอย่างน้อย 1 ชิ้นต่อเว็บ (Web Order) ส่วนใหญ่ไม่ใช่ผู้ชาย (Gender=male) ไม่ได้มากจาก US (US) และที่อยู่ไม่ใช้ที่บ้าน (Address_is_res) สามารถสรุปได้จากค่า Coefficient"
      ],
      "metadata": {
        "id": "Q2cN1K33-xVn"
      }
    },
    {
      "cell_type": "markdown",
      "source": [
        "### 4) If we need to reduce the number of predictors, which predictor(s) would be dropped from the model?"
      ],
      "metadata": {
        "id": "fbkCIP8Bqnkp"
      }
    },
    {
      "cell_type": "markdown",
      "source": [
        "เราควร drop column Gender=male, US, Web order เนื่องจากมีค่า coefficient ที่ต่ำ แสดงถึงความไม่เกี่ยวข้องกัน จึงไม่ควรนำมาใช้ในการ train"
      ],
      "metadata": {
        "id": "ZsvFBgAPqzJE"
      }
    },
    {
      "cell_type": "markdown",
      "source": [
        "# Fitting second model"
      ],
      "metadata": {
        "id": "2j-RH6VuvFAD"
      }
    },
    {
      "cell_type": "markdown",
      "source": [
        "## c) Fit a second predictive model for SPENDING using your best predictors:"
      ],
      "metadata": {
        "id": "baTobne0vH7H"
      }
    },
    {
      "cell_type": "markdown",
      "source": [
        "### 1) Apply multiple linear regression to create a spending prediction model. Then, give the regression equation 2."
      ],
      "metadata": {
        "id": "2cqRQbLAvNEM"
      }
    },
    {
      "cell_type": "code",
      "source": [
        "predictors = [\"Freq\",\"last_update_days_ago\",\"Address_is_res\"]\n",
        "X_train = df[predictors]\n",
        "X_test = df[predictors]\n",
        "y_train = df[[\"Spending\"]]\n",
        "y_test = df[[\"Spending\"]]\n",
        "scaler = StandardScaler().fit(X_train)\n",
        "X_train_scaled = scaler.transform(X_train)\n",
        "X_test_scaled = scaler.transform(X_test)\n",
        "model = LinearRegression()\n",
        "model.fit(X_train_scaled,y_train)\n",
        "y_pred = model.predict(X_test_scaled)\n",
        "mse = mean_squared_error(y_test, y_pred)\n",
        "rmse = math.sqrt(mse)\n",
        "print(\"Features :\", X_train.columns.tolist())\n",
        "print(\"Coefficients:\", model.coef_)\n",
        "print(\"Intercept :\", model.intercept_)\n",
        "print(\"RMSE = \", rmse)\n",
        "print(f\"Regression equation : pred_Spending = {model.intercept_[0]:.2f} + {coef[0]:.2f}*Freq + {coef[1]:.2f}*last_update_days_ago + {coef[2]:.2f}*Address_is_res\")"
      ],
      "metadata": {
        "colab": {
          "base_uri": "https://localhost:8080/"
        },
        "id": "uxVebjmfvRAk",
        "outputId": "22678faa-9366-4d10-fcdd-428f4fd2ac26"
      },
      "execution_count": 22,
      "outputs": [
        {
          "output_type": "stream",
          "name": "stdout",
          "text": [
            "Features : ['Freq', 'last_update_days_ago', 'Address_is_res']\n",
            "Coefficients: [[140.33233563 -22.78159161 -35.28153467]]\n",
            "Intercept : [205.249]\n",
            "RMSE =  163.85506353179443\n",
            "Regression equation : pred_Spending = 205.25 + 155.95*Freq + -28.22*last_update_days_ago + 0.77*Address_is_res\n"
          ]
        }
      ]
    },
    {
      "cell_type": "markdown",
      "source": [
        "ได้สมการ Regression คือ\n",
        "pred_Spending = 205.25 + 155.95\\*Freq + -28.22\\*last_update_days_ago + 0.77\\*Address_is_res"
      ],
      "metadata": {
        "id": "mquUGzxmHM0O"
      }
    },
    {
      "cell_type": "markdown",
      "source": [
        "### 2) Displays the prediction results of the purchase amount in the first record of the test data set, along with indicating the error obtained."
      ],
      "metadata": {
        "id": "Z6lqlC7NxVJX"
      }
    },
    {
      "cell_type": "code",
      "source": [
        "training_set_partition = df[df['Partition'] == 't']\n",
        "test_set_partition = df[df['Partition'] == 'v']\n",
        "predictor_column_2 = ['Freq', 'last_update_days_ago', 'Address_is_res']\n",
        "X_training_set_2 = training_set_partition[predictor_column_2]\n",
        "Y_training_set_2 = training_set_partition['Spending']\n",
        "X_test_set_2 = test_set_partition[predictor_column_2]\n",
        "Y_test_set_2 = test_set_partition['Spending']\n",
        "from sklearn.preprocessing import StandardScaler\n",
        "scaler_2 = StandardScaler().fit(X_training_set_2)\n",
        "X_training_set_scaled_2 = scaler_2.transform(X_training_set_2)\n",
        "X_test_set_scaled_2 = scaler_2.transform(X_test_set_2)\n",
        "from sklearn.metrics import mean_squared_error\n",
        "from sklearn.linear_model import LinearRegression\n",
        "model_2 = LinearRegression()\n",
        "model_2.fit(X_training_set_scaled_2,Y_training_set_2)\n",
        "print(model_2.coef_)\n",
        "print(model_2.intercept_)\n",
        "print(\"Features :\", X_training_set_2.columns.tolist())\n",
        "print(\"Coefficients :\", model_2.coef_)\n",
        "print(\"Intercept :\", model_2.intercept_)\n",
        "print(\"RMSE = \", rmse)\n",
        "y_pred_2 = model_2.predict(X_test_set_scaled_2)\n",
        "\n",
        "first_record_prediction = y_pred_2[0][0] if y_pred_2.ndim > 1 else y_pred_2[0]\n",
        "\n",
        "y_test_set_2_first_record = Y_test_set_2.iloc[0]\n",
        "\n",
        "first_record_error = y_test_set_2_first_record - first_record_prediction\n",
        "\n",
        "# Print the results\n",
        "print(f'First record prediction: {first_record_prediction}')\n",
        "print(f'First record actual: {y_test_set_2_first_record}')\n",
        "print(f'First record error: {first_record_error}')"
      ],
      "metadata": {
        "colab": {
          "base_uri": "https://localhost:8080/"
        },
        "id": "IBUf83Q--m4q",
        "outputId": "9cb6f6bc-cee0-4864-9112-7a73e16bff2d"
      },
      "execution_count": 23,
      "outputs": [
        {
          "output_type": "stream",
          "name": "stdout",
          "text": [
            "[156.99643567 -25.64879479 -38.36150702]\n",
            "207.78364116094986\n",
            "Features : ['Freq', 'last_update_days_ago', 'Address_is_res']\n",
            "Coefficients : [156.99643567 -25.64879479 -38.36150702]\n",
            "Intercept : 207.78364116094986\n",
            "RMSE =  163.85506353179443\n",
            "First record prediction: 91.61218128467715\n",
            "First record actual: 174\n",
            "First record error: 82.38781871532285\n"
          ]
        }
      ]
    },
    {
      "cell_type": "code",
      "source": [
        "import math\n",
        "from sklearn.metrics import mean_absolute_error\n",
        "from sklearn.metrics import mean_absolute_percentage_error\n",
        "\n",
        "y_pred = model.predict(X_test_scaled)\n",
        "print(f'first record predict : {y_pred[0][0]}')\n",
        "y_test_first_record = y_test.iloc[0]\n",
        "print(f'first record actual : {y_test_first_record[0]}')\n",
        "print(f'first record error : {y_test_first_record[0] - y_pred[0][0]}')"
      ],
      "metadata": {
        "colab": {
          "base_uri": "https://localhost:8080/"
        },
        "id": "3RknjXSjxTvY",
        "outputId": "b71dea9b-af9e-4b9c-b043-56699002f72a"
      },
      "execution_count": 24,
      "outputs": [
        {
          "output_type": "stream",
          "name": "stdout",
          "text": [
            "first record predict : 98.25009144865757\n",
            "first record actual : 128\n",
            "first record error : 29.74990855134243\n"
          ]
        }
      ]
    },
    {
      "cell_type": "markdown",
      "source": [
        "### 3) Give the performance of the model (error) on the test data set."
      ],
      "metadata": {
        "id": "iEciqgtBxb6p"
      }
    },
    {
      "cell_type": "code",
      "source": [
        "mse = mean_squared_error(y_test, y_pred)\n",
        "mae = mean_absolute_error(y_test, y_pred)\n",
        "mape = mean_absolute_percentage_error(y_test, y_pred)\n",
        "rmse = math.sqrt(mse)\n",
        "print(\"MAE = \", mae)\n",
        "print(\"MSE = \", mse)\n",
        "print(\"MAPE = \", mape)\n",
        "print(\"RMSE = \", rmse)"
      ],
      "metadata": {
        "colab": {
          "base_uri": "https://localhost:8080/"
        },
        "id": "OXmbsEMKxOgy",
        "outputId": "a2b7dae8-3eff-4aab-bce9-dc087b8fda69"
      },
      "execution_count": 25,
      "outputs": [
        {
          "output_type": "stream",
          "name": "stdout",
          "text": [
            "MAE =  102.50925585091399\n",
            "MSE =  26848.481845008388\n",
            "MAPE =  1.2636907595741182\n",
            "RMSE =  163.85506353179443\n"
          ]
        }
      ]
    }
  ]
}